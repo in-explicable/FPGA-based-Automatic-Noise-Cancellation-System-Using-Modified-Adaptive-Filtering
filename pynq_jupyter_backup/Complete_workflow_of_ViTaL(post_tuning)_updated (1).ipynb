{
  "nbformat": 4,
  "nbformat_minor": 0,
  "metadata": {
    "colab": {
      "provenance": [],
      "collapsed_sections": [
        "jEe7hdeOtw0G",
        "cHXlu1Jp1G7O",
        "31ZOo3UI2iqe",
        "_sjce5mW2o_8"
      ]
    },
    "kernelspec": {
      "name": "python3",
      "display_name": "Python 3"
    },
    "language_info": {
      "name": "python"
    }
  },
  "cells": [
    {
      "cell_type": "markdown",
      "source": [
        "## 1. Loading the image data and Feature Extraction"
      ],
      "metadata": {
        "id": "jEe7hdeOtw0G"
      }
    },
    {
      "cell_type": "code",
      "source": [
        "import os\n",
        "import numpy as np\n",
        "import torch\n",
        "from tensorflow.keras.preprocessing import image\n",
        "from transformers import ViTImageProcessor, ViTModel\n",
        "from tqdm import tqdm  # For progress visualization\n",
        "\n",
        "# Ensure PyTorch uses GPU if available\n",
        "device = torch.device(\"cuda\" if torch.cuda.is_available() else \"cpu\")\n",
        "print(f\"Using device: {device}\")\n",
        "\n",
        "# Load the ViT feature extractor and model\n",
        "feature_extractor = ViTImageProcessor.from_pretrained(\"google/vit-base-patch16-224-in21k\")\n",
        "vit_model = ViTModel.from_pretrained(\"google/vit-base-patch16-224-in21k\")\n",
        "\n",
        "# Move ViT model to GPU\n",
        "vit_model.to(device)\n",
        "vit_model.eval()\n",
        "\n",
        "# Define paths for saving images\n",
        "output_directory = '/content/drive/MyDrive/Mini Project - 2.0/data/processed_images/'\n",
        "os.makedirs(output_directory, exist_ok=True)\n",
        "\n",
        "# Function to load and preprocess images for a single subject\n",
        "def load_and_preprocess_subject_images(subject_id, base_map_directory, output_directory):\n",
        "    subject_directory = os.path.join(base_map_directory, f\"sub-{subject_id:03d}\")  # Pad subject ID to 3 digits\n",
        "    subject_features = []  # To store features for each subject\n",
        "    missing_files = []  # Log missing files for debugging\n",
        "\n",
        "    # Check if subject directory exists\n",
        "    if not os.path.exists(subject_directory):\n",
        "        print(f\"Subject folder {subject_directory} does not exist.\")\n",
        "        return None  # Skip this subject\n",
        "\n",
        "    for segment in range(1, 20):  # Iterate through segments 1 to 19\n",
        "        img_file = f\"topo_maps_sub-{subject_id:03d}_segment_{segment}.png\"\n",
        "        img_path = os.path.join(subject_directory, img_file)\n",
        "\n",
        "        print(f\"Trying to load: {img_path}\")\n",
        "\n",
        "        # Check if the image file exists\n",
        "        if os.path.exists(img_path):\n",
        "            try:\n",
        "                # Load and normalize the image\n",
        "                img = image.load_img(img_path, target_size=(224, 224))\n",
        "                img_array = image.img_to_array(img) / 255.0  # Normalize to [0, 1]\n",
        "\n",
        "                # Preprocess the image using the ViT processor with do_rescale=False\n",
        "                processed_img = feature_extractor(img_array, return_tensors=\"pt\", do_rescale=False)['pixel_values'].to(device)  # Move tensor to GPU\n",
        "\n",
        "                # Extract features using the ViT model\n",
        "                with torch.no_grad():  # Disable gradient calculation for inference\n",
        "                    features = vit_model(processed_img).last_hidden_state  # Extract embeddings\n",
        "\n",
        "                # Flatten the features and store them for this segment\n",
        "                flattened_features = features.squeeze(0).mean(dim=0).cpu().numpy()  # Use mean of all tokens for 768 features\n",
        "                subject_features.append(flattened_features)\n",
        "\n",
        "                # Save each processed image separately\n",
        "                image_output_path = os.path.join(output_directory, f\"sub-{subject_id:03d}_segment_{segment}.npy\")\n",
        "                np.save(image_output_path, flattened_features)  # Save the flattened feature array\n",
        "                print(f\"Saved: {image_output_path}\")\n",
        "\n",
        "            except Exception as e:\n",
        "                print(f\"Error processing {img_path}: {e}\")\n",
        "        else:\n",
        "            missing_files.append(img_file)  # Log missing files\n",
        "\n",
        "    if len(subject_features) == 19:  # Ensure we have 19 segments for the subject\n",
        "        subject_features = np.array(subject_features)  # Stack all features into a NumPy array\n",
        "    else:\n",
        "        print(f\"Skipping subject {subject_id} due to missing segments.\")\n",
        "        subject_features = None\n",
        "\n",
        "    if missing_files:\n",
        "        print(f\"Missing files for subject {subject_id}: {missing_files}\")\n",
        "\n",
        "    return subject_features\n",
        "\n",
        "# Function to load and preprocess images for all subjects\n",
        "def load_and_preprocess_all_subjects(num_subjects, base_map_directory, output_directory):\n",
        "    eeg_images = []  # To store the features of all subjects\n",
        "    for subject_id in tqdm(range(1, num_subjects + 1), desc=\"Processing Subjects\"):\n",
        "        subject_images = load_and_preprocess_subject_images(subject_id, base_map_directory, output_directory)\n",
        "        if subject_images is not None:\n",
        "            eeg_images.append(subject_images)\n",
        "        else:\n",
        "            print(f\"Skipping subject {subject_id} due to missing or invalid images.\")\n",
        "\n",
        "    # Convert to a NumPy array with shape (88, 19, 768)\n",
        "    eeg_images = np.array(eeg_images)\n",
        "    return eeg_images\n",
        "\n",
        "# Function to save the entire dataset as a .npz file\n",
        "def save_to_npz(processed_images_all_subjects, output_file_path):\n",
        "    # Save all subject images in a single .npz file\n",
        "    np.savez_compressed(output_file_path, eeg_images=processed_images_all_subjects)\n",
        "    print(f\"Saved all processed images to {output_file_path}\")\n",
        "\n",
        "# Base directory for images\n",
        "base_map_directory = '/content/drive/MyDrive/Mini Project - 2.0/data/images/'\n",
        "\n",
        "# Process images for all the 88 subjects\n",
        "eeg_images = load_and_preprocess_all_subjects(88, base_map_directory, output_directory)\n",
        "\n",
        "# Save the processed images into a single .npz file\n",
        "output_file_path = '/content/drive/MyDrive/Mini Project - 2.0/data/processed_images.npz'\n",
        "save_to_npz(eeg_images, output_file_path)\n"
      ],
      "metadata": {
        "colab": {
          "base_uri": "https://localhost:8080/",
          "height": 443
        },
        "id": "ZZxya_9Kt3RZ",
        "outputId": "330d44f6-0870-4a21-8485-a0ec88180c43"
      },
      "execution_count": 56,
      "outputs": [
        {
          "output_type": "stream",
          "name": "stderr",
          "text": [
            "Exception ignored in: <function _xla_gc_callback at 0x7b1536fb8b80>\n",
            "Traceback (most recent call last):\n",
            "  File \"/usr/local/lib/python3.10/dist-packages/jax/_src/lib/__init__.py\", line 96, in _xla_gc_callback\n",
            "    def _xla_gc_callback(*args):\n",
            "KeyboardInterrupt: \n"
          ]
        },
        {
          "output_type": "error",
          "ename": "KeyboardInterrupt",
          "evalue": "",
          "traceback": [
            "\u001b[0;31m---------------------------------------------------------------------------\u001b[0m",
            "\u001b[0;31mKeyboardInterrupt\u001b[0m                         Traceback (most recent call last)",
            "\u001b[0;32m<ipython-input-56-3a67196c806a>\u001b[0m in \u001b[0;36m<cell line: 5>\u001b[0;34m()\u001b[0m\n\u001b[1;32m      3\u001b[0m \u001b[0;32mimport\u001b[0m \u001b[0mtorch\u001b[0m\u001b[0;34m\u001b[0m\u001b[0;34m\u001b[0m\u001b[0m\n\u001b[1;32m      4\u001b[0m \u001b[0;32mfrom\u001b[0m \u001b[0mtensorflow\u001b[0m\u001b[0;34m.\u001b[0m\u001b[0mkeras\u001b[0m\u001b[0;34m.\u001b[0m\u001b[0mpreprocessing\u001b[0m \u001b[0;32mimport\u001b[0m \u001b[0mimage\u001b[0m\u001b[0;34m\u001b[0m\u001b[0;34m\u001b[0m\u001b[0m\n\u001b[0;32m----> 5\u001b[0;31m \u001b[0;32mfrom\u001b[0m \u001b[0mtransformers\u001b[0m \u001b[0;32mimport\u001b[0m \u001b[0mViTImageProcessor\u001b[0m\u001b[0;34m,\u001b[0m \u001b[0mViTModel\u001b[0m\u001b[0;34m\u001b[0m\u001b[0;34m\u001b[0m\u001b[0m\n\u001b[0m\u001b[1;32m      6\u001b[0m \u001b[0;32mfrom\u001b[0m \u001b[0mtqdm\u001b[0m \u001b[0;32mimport\u001b[0m \u001b[0mtqdm\u001b[0m  \u001b[0;31m# For progress visualization\u001b[0m\u001b[0;34m\u001b[0m\u001b[0;34m\u001b[0m\u001b[0m\n\u001b[1;32m      7\u001b[0m \u001b[0;34m\u001b[0m\u001b[0m\n",
            "\u001b[0;32m/usr/lib/python3.10/importlib/_bootstrap.py\u001b[0m in \u001b[0;36m_handle_fromlist\u001b[0;34m(module, fromlist, import_, recursive)\u001b[0m\n",
            "\u001b[0;32m/usr/local/lib/python3.10/dist-packages/transformers/utils/import_utils.py\u001b[0m in \u001b[0;36m__getattr__\u001b[0;34m(self, name)\u001b[0m\n\u001b[1;32m   1765\u001b[0m         \u001b[0;32melif\u001b[0m \u001b[0mname\u001b[0m \u001b[0;32min\u001b[0m \u001b[0mself\u001b[0m\u001b[0;34m.\u001b[0m\u001b[0m_class_to_module\u001b[0m\u001b[0;34m.\u001b[0m\u001b[0mkeys\u001b[0m\u001b[0;34m(\u001b[0m\u001b[0;34m)\u001b[0m\u001b[0;34m:\u001b[0m\u001b[0;34m\u001b[0m\u001b[0;34m\u001b[0m\u001b[0m\n\u001b[1;32m   1766\u001b[0m             \u001b[0mmodule\u001b[0m \u001b[0;34m=\u001b[0m \u001b[0mself\u001b[0m\u001b[0;34m.\u001b[0m\u001b[0m_get_module\u001b[0m\u001b[0;34m(\u001b[0m\u001b[0mself\u001b[0m\u001b[0;34m.\u001b[0m\u001b[0m_class_to_module\u001b[0m\u001b[0;34m[\u001b[0m\u001b[0mname\u001b[0m\u001b[0;34m]\u001b[0m\u001b[0;34m)\u001b[0m\u001b[0;34m\u001b[0m\u001b[0;34m\u001b[0m\u001b[0m\n\u001b[0;32m-> 1767\u001b[0;31m             \u001b[0mvalue\u001b[0m \u001b[0;34m=\u001b[0m \u001b[0mgetattr\u001b[0m\u001b[0;34m(\u001b[0m\u001b[0mmodule\u001b[0m\u001b[0;34m,\u001b[0m \u001b[0mname\u001b[0m\u001b[0;34m)\u001b[0m\u001b[0;34m\u001b[0m\u001b[0;34m\u001b[0m\u001b[0m\n\u001b[0m\u001b[1;32m   1768\u001b[0m         \u001b[0;32melif\u001b[0m \u001b[0mname\u001b[0m \u001b[0;32min\u001b[0m \u001b[0mself\u001b[0m\u001b[0;34m.\u001b[0m\u001b[0m_modules\u001b[0m\u001b[0;34m:\u001b[0m\u001b[0;34m\u001b[0m\u001b[0;34m\u001b[0m\u001b[0m\n\u001b[1;32m   1769\u001b[0m             \u001b[0mvalue\u001b[0m \u001b[0;34m=\u001b[0m \u001b[0mself\u001b[0m\u001b[0;34m.\u001b[0m\u001b[0m_get_module\u001b[0m\u001b[0;34m(\u001b[0m\u001b[0mname\u001b[0m\u001b[0;34m)\u001b[0m\u001b[0;34m\u001b[0m\u001b[0;34m\u001b[0m\u001b[0m\n",
            "\u001b[0;32m/usr/local/lib/python3.10/dist-packages/transformers/utils/import_utils.py\u001b[0m in \u001b[0;36m__getattr__\u001b[0;34m(self, name)\u001b[0m\n\u001b[1;32m   1764\u001b[0m             \u001b[0mvalue\u001b[0m \u001b[0;34m=\u001b[0m \u001b[0mPlaceholder\u001b[0m\u001b[0;34m\u001b[0m\u001b[0;34m\u001b[0m\u001b[0m\n\u001b[1;32m   1765\u001b[0m         \u001b[0;32melif\u001b[0m \u001b[0mname\u001b[0m \u001b[0;32min\u001b[0m \u001b[0mself\u001b[0m\u001b[0;34m.\u001b[0m\u001b[0m_class_to_module\u001b[0m\u001b[0;34m.\u001b[0m\u001b[0mkeys\u001b[0m\u001b[0;34m(\u001b[0m\u001b[0;34m)\u001b[0m\u001b[0;34m:\u001b[0m\u001b[0;34m\u001b[0m\u001b[0;34m\u001b[0m\u001b[0m\n\u001b[0;32m-> 1766\u001b[0;31m             \u001b[0mmodule\u001b[0m \u001b[0;34m=\u001b[0m \u001b[0mself\u001b[0m\u001b[0;34m.\u001b[0m\u001b[0m_get_module\u001b[0m\u001b[0;34m(\u001b[0m\u001b[0mself\u001b[0m\u001b[0;34m.\u001b[0m\u001b[0m_class_to_module\u001b[0m\u001b[0;34m[\u001b[0m\u001b[0mname\u001b[0m\u001b[0;34m]\u001b[0m\u001b[0;34m)\u001b[0m\u001b[0;34m\u001b[0m\u001b[0;34m\u001b[0m\u001b[0m\n\u001b[0m\u001b[1;32m   1767\u001b[0m             \u001b[0mvalue\u001b[0m \u001b[0;34m=\u001b[0m \u001b[0mgetattr\u001b[0m\u001b[0;34m(\u001b[0m\u001b[0mmodule\u001b[0m\u001b[0;34m,\u001b[0m \u001b[0mname\u001b[0m\u001b[0;34m)\u001b[0m\u001b[0;34m\u001b[0m\u001b[0;34m\u001b[0m\u001b[0m\n\u001b[1;32m   1768\u001b[0m         \u001b[0;32melif\u001b[0m \u001b[0mname\u001b[0m \u001b[0;32min\u001b[0m \u001b[0mself\u001b[0m\u001b[0;34m.\u001b[0m\u001b[0m_modules\u001b[0m\u001b[0;34m:\u001b[0m\u001b[0;34m\u001b[0m\u001b[0;34m\u001b[0m\u001b[0m\n",
            "\u001b[0;32m/usr/local/lib/python3.10/dist-packages/transformers/utils/import_utils.py\u001b[0m in \u001b[0;36m_get_module\u001b[0;34m(self, module_name)\u001b[0m\n\u001b[1;32m   1776\u001b[0m     \u001b[0;32mdef\u001b[0m \u001b[0m_get_module\u001b[0m\u001b[0;34m(\u001b[0m\u001b[0mself\u001b[0m\u001b[0;34m,\u001b[0m \u001b[0mmodule_name\u001b[0m\u001b[0;34m:\u001b[0m \u001b[0mstr\u001b[0m\u001b[0;34m)\u001b[0m\u001b[0;34m:\u001b[0m\u001b[0;34m\u001b[0m\u001b[0;34m\u001b[0m\u001b[0m\n\u001b[1;32m   1777\u001b[0m         \u001b[0;32mtry\u001b[0m\u001b[0;34m:\u001b[0m\u001b[0;34m\u001b[0m\u001b[0;34m\u001b[0m\u001b[0m\n\u001b[0;32m-> 1778\u001b[0;31m             \u001b[0;32mreturn\u001b[0m \u001b[0mimportlib\u001b[0m\u001b[0;34m.\u001b[0m\u001b[0mimport_module\u001b[0m\u001b[0;34m(\u001b[0m\u001b[0;34m\".\"\u001b[0m \u001b[0;34m+\u001b[0m \u001b[0mmodule_name\u001b[0m\u001b[0;34m,\u001b[0m \u001b[0mself\u001b[0m\u001b[0;34m.\u001b[0m\u001b[0m__name__\u001b[0m\u001b[0;34m)\u001b[0m\u001b[0;34m\u001b[0m\u001b[0;34m\u001b[0m\u001b[0m\n\u001b[0m\u001b[1;32m   1779\u001b[0m         \u001b[0;32mexcept\u001b[0m \u001b[0mException\u001b[0m \u001b[0;32mas\u001b[0m \u001b[0me\u001b[0m\u001b[0;34m:\u001b[0m\u001b[0;34m\u001b[0m\u001b[0;34m\u001b[0m\u001b[0m\n\u001b[1;32m   1780\u001b[0m             raise RuntimeError(\n",
            "\u001b[0;32m/usr/lib/python3.10/importlib/__init__.py\u001b[0m in \u001b[0;36mimport_module\u001b[0;34m(name, package)\u001b[0m\n\u001b[1;32m    124\u001b[0m                 \u001b[0;32mbreak\u001b[0m\u001b[0;34m\u001b[0m\u001b[0;34m\u001b[0m\u001b[0m\n\u001b[1;32m    125\u001b[0m             \u001b[0mlevel\u001b[0m \u001b[0;34m+=\u001b[0m \u001b[0;36m1\u001b[0m\u001b[0;34m\u001b[0m\u001b[0;34m\u001b[0m\u001b[0m\n\u001b[0;32m--> 126\u001b[0;31m     \u001b[0;32mreturn\u001b[0m \u001b[0m_bootstrap\u001b[0m\u001b[0;34m.\u001b[0m\u001b[0m_gcd_import\u001b[0m\u001b[0;34m(\u001b[0m\u001b[0mname\u001b[0m\u001b[0;34m[\u001b[0m\u001b[0mlevel\u001b[0m\u001b[0;34m:\u001b[0m\u001b[0;34m]\u001b[0m\u001b[0;34m,\u001b[0m \u001b[0mpackage\u001b[0m\u001b[0;34m,\u001b[0m \u001b[0mlevel\u001b[0m\u001b[0;34m)\u001b[0m\u001b[0;34m\u001b[0m\u001b[0;34m\u001b[0m\u001b[0m\n\u001b[0m\u001b[1;32m    127\u001b[0m \u001b[0;34m\u001b[0m\u001b[0m\n\u001b[1;32m    128\u001b[0m \u001b[0;34m\u001b[0m\u001b[0m\n",
            "\u001b[0;32m/usr/local/lib/python3.10/dist-packages/transformers/models/vit/image_processing_vit.py\u001b[0m in \u001b[0;36m<module>\u001b[0;34m\u001b[0m\n\u001b[1;32m     19\u001b[0m \u001b[0;32mimport\u001b[0m \u001b[0mnumpy\u001b[0m \u001b[0;32mas\u001b[0m \u001b[0mnp\u001b[0m\u001b[0;34m\u001b[0m\u001b[0;34m\u001b[0m\u001b[0m\n\u001b[1;32m     20\u001b[0m \u001b[0;34m\u001b[0m\u001b[0m\n\u001b[0;32m---> 21\u001b[0;31m \u001b[0;32mfrom\u001b[0m \u001b[0;34m...\u001b[0m\u001b[0mimage_processing_utils\u001b[0m \u001b[0;32mimport\u001b[0m \u001b[0mBaseImageProcessor\u001b[0m\u001b[0;34m,\u001b[0m \u001b[0mBatchFeature\u001b[0m\u001b[0;34m,\u001b[0m \u001b[0mget_size_dict\u001b[0m\u001b[0;34m\u001b[0m\u001b[0;34m\u001b[0m\u001b[0m\n\u001b[0m\u001b[1;32m     22\u001b[0m \u001b[0;32mfrom\u001b[0m \u001b[0;34m...\u001b[0m\u001b[0mimage_transforms\u001b[0m \u001b[0;32mimport\u001b[0m \u001b[0mresize\u001b[0m\u001b[0;34m,\u001b[0m \u001b[0mto_channel_dimension_format\u001b[0m\u001b[0;34m\u001b[0m\u001b[0;34m\u001b[0m\u001b[0m\n\u001b[1;32m     23\u001b[0m from ...image_utils import (\n",
            "\u001b[0;32m/usr/local/lib/python3.10/dist-packages/transformers/image_processing_utils.py\u001b[0m in \u001b[0;36m<module>\u001b[0;34m\u001b[0m\n\u001b[1;32m     19\u001b[0m \u001b[0;34m\u001b[0m\u001b[0m\n\u001b[1;32m     20\u001b[0m \u001b[0;32mfrom\u001b[0m \u001b[0;34m.\u001b[0m\u001b[0mimage_processing_base\u001b[0m \u001b[0;32mimport\u001b[0m \u001b[0mBatchFeature\u001b[0m\u001b[0;34m,\u001b[0m \u001b[0mImageProcessingMixin\u001b[0m\u001b[0;34m\u001b[0m\u001b[0;34m\u001b[0m\u001b[0m\n\u001b[0;32m---> 21\u001b[0;31m \u001b[0;32mfrom\u001b[0m \u001b[0;34m.\u001b[0m\u001b[0mimage_transforms\u001b[0m \u001b[0;32mimport\u001b[0m \u001b[0mcenter_crop\u001b[0m\u001b[0;34m,\u001b[0m \u001b[0mnormalize\u001b[0m\u001b[0;34m,\u001b[0m \u001b[0mrescale\u001b[0m\u001b[0;34m\u001b[0m\u001b[0;34m\u001b[0m\u001b[0m\n\u001b[0m\u001b[1;32m     22\u001b[0m \u001b[0;32mfrom\u001b[0m \u001b[0;34m.\u001b[0m\u001b[0mimage_utils\u001b[0m \u001b[0;32mimport\u001b[0m \u001b[0mChannelDimension\u001b[0m\u001b[0;34m\u001b[0m\u001b[0;34m\u001b[0m\u001b[0m\n\u001b[1;32m     23\u001b[0m \u001b[0;32mfrom\u001b[0m \u001b[0;34m.\u001b[0m\u001b[0mutils\u001b[0m \u001b[0;32mimport\u001b[0m \u001b[0mlogging\u001b[0m\u001b[0;34m\u001b[0m\u001b[0;34m\u001b[0m\u001b[0m\n",
            "\u001b[0;32m/usr/local/lib/python3.10/dist-packages/transformers/image_transforms.py\u001b[0m in \u001b[0;36m<module>\u001b[0;34m\u001b[0m\n\u001b[1;32m     20\u001b[0m \u001b[0;32mimport\u001b[0m \u001b[0mnumpy\u001b[0m \u001b[0;32mas\u001b[0m \u001b[0mnp\u001b[0m\u001b[0;34m\u001b[0m\u001b[0;34m\u001b[0m\u001b[0m\n\u001b[1;32m     21\u001b[0m \u001b[0;34m\u001b[0m\u001b[0m\n\u001b[0;32m---> 22\u001b[0;31m from .image_utils import (\n\u001b[0m\u001b[1;32m     23\u001b[0m     \u001b[0mChannelDimension\u001b[0m\u001b[0;34m,\u001b[0m\u001b[0;34m\u001b[0m\u001b[0;34m\u001b[0m\u001b[0m\n\u001b[1;32m     24\u001b[0m     \u001b[0mImageInput\u001b[0m\u001b[0;34m,\u001b[0m\u001b[0;34m\u001b[0m\u001b[0;34m\u001b[0m\u001b[0m\n",
            "\u001b[0;32m/usr/local/lib/python3.10/dist-packages/transformers/image_utils.py\u001b[0m in \u001b[0;36m<module>\u001b[0;34m\u001b[0m\n\u001b[1;32m     56\u001b[0m \u001b[0;34m\u001b[0m\u001b[0m\n\u001b[1;32m     57\u001b[0m     \u001b[0;32mif\u001b[0m \u001b[0mis_torchvision_available\u001b[0m\u001b[0;34m(\u001b[0m\u001b[0;34m)\u001b[0m\u001b[0;34m:\u001b[0m\u001b[0;34m\u001b[0m\u001b[0;34m\u001b[0m\u001b[0m\n\u001b[0;32m---> 58\u001b[0;31m         \u001b[0;32mfrom\u001b[0m \u001b[0mtorchvision\u001b[0m\u001b[0;34m.\u001b[0m\u001b[0mtransforms\u001b[0m \u001b[0;32mimport\u001b[0m \u001b[0mInterpolationMode\u001b[0m\u001b[0;34m\u001b[0m\u001b[0;34m\u001b[0m\u001b[0m\n\u001b[0m\u001b[1;32m     59\u001b[0m \u001b[0;34m\u001b[0m\u001b[0m\n\u001b[1;32m     60\u001b[0m         pil_torch_interpolation_mapping = {\n",
            "\u001b[0;32m/usr/local/lib/python3.10/dist-packages/torchvision/__init__.py\u001b[0m in \u001b[0;36m<module>\u001b[0;34m\u001b[0m\n\u001b[1;32m      8\u001b[0m \u001b[0;31m# .extensions) before entering _meta_registrations.\u001b[0m\u001b[0;34m\u001b[0m\u001b[0;34m\u001b[0m\u001b[0m\n\u001b[1;32m      9\u001b[0m \u001b[0;32mfrom\u001b[0m \u001b[0;34m.\u001b[0m\u001b[0mextension\u001b[0m \u001b[0;32mimport\u001b[0m \u001b[0m_HAS_OPS\u001b[0m  \u001b[0;31m# usort:skip\u001b[0m\u001b[0;34m\u001b[0m\u001b[0;34m\u001b[0m\u001b[0m\n\u001b[0;32m---> 10\u001b[0;31m \u001b[0;32mfrom\u001b[0m \u001b[0mtorchvision\u001b[0m \u001b[0;32mimport\u001b[0m \u001b[0m_meta_registrations\u001b[0m\u001b[0;34m,\u001b[0m \u001b[0mdatasets\u001b[0m\u001b[0;34m,\u001b[0m \u001b[0mio\u001b[0m\u001b[0;34m,\u001b[0m \u001b[0mmodels\u001b[0m\u001b[0;34m,\u001b[0m \u001b[0mops\u001b[0m\u001b[0;34m,\u001b[0m \u001b[0mtransforms\u001b[0m\u001b[0;34m,\u001b[0m \u001b[0mutils\u001b[0m  \u001b[0;31m# usort:skip\u001b[0m\u001b[0;34m\u001b[0m\u001b[0;34m\u001b[0m\u001b[0m\n\u001b[0m\u001b[1;32m     11\u001b[0m \u001b[0;34m\u001b[0m\u001b[0m\n\u001b[1;32m     12\u001b[0m \u001b[0;32mtry\u001b[0m\u001b[0;34m:\u001b[0m\u001b[0;34m\u001b[0m\u001b[0;34m\u001b[0m\u001b[0m\n",
            "\u001b[0;32m/usr/local/lib/python3.10/dist-packages/torchvision/models/__init__.py\u001b[0m in \u001b[0;36m<module>\u001b[0;34m\u001b[0m\n\u001b[1;32m      1\u001b[0m \u001b[0;32mfrom\u001b[0m \u001b[0;34m.\u001b[0m\u001b[0malexnet\u001b[0m \u001b[0;32mimport\u001b[0m \u001b[0;34m*\u001b[0m\u001b[0;34m\u001b[0m\u001b[0;34m\u001b[0m\u001b[0m\n\u001b[0;32m----> 2\u001b[0;31m \u001b[0;32mfrom\u001b[0m \u001b[0;34m.\u001b[0m\u001b[0mconvnext\u001b[0m \u001b[0;32mimport\u001b[0m \u001b[0;34m*\u001b[0m\u001b[0;34m\u001b[0m\u001b[0;34m\u001b[0m\u001b[0m\n\u001b[0m\u001b[1;32m      3\u001b[0m \u001b[0;32mfrom\u001b[0m \u001b[0;34m.\u001b[0m\u001b[0mdensenet\u001b[0m \u001b[0;32mimport\u001b[0m \u001b[0;34m*\u001b[0m\u001b[0;34m\u001b[0m\u001b[0;34m\u001b[0m\u001b[0m\n\u001b[1;32m      4\u001b[0m \u001b[0;32mfrom\u001b[0m \u001b[0;34m.\u001b[0m\u001b[0mefficientnet\u001b[0m \u001b[0;32mimport\u001b[0m \u001b[0;34m*\u001b[0m\u001b[0;34m\u001b[0m\u001b[0;34m\u001b[0m\u001b[0m\n\u001b[1;32m      5\u001b[0m \u001b[0;32mfrom\u001b[0m \u001b[0;34m.\u001b[0m\u001b[0mgooglenet\u001b[0m \u001b[0;32mimport\u001b[0m \u001b[0;34m*\u001b[0m\u001b[0;34m\u001b[0m\u001b[0;34m\u001b[0m\u001b[0m\n",
            "\u001b[0;32m/usr/local/lib/python3.10/dist-packages/torchvision/models/convnext.py\u001b[0m in \u001b[0;36m<module>\u001b[0;34m\u001b[0m\n\u001b[1;32m      6\u001b[0m \u001b[0;32mfrom\u001b[0m \u001b[0mtorch\u001b[0m\u001b[0;34m.\u001b[0m\u001b[0mnn\u001b[0m \u001b[0;32mimport\u001b[0m \u001b[0mfunctional\u001b[0m \u001b[0;32mas\u001b[0m \u001b[0mF\u001b[0m\u001b[0;34m\u001b[0m\u001b[0;34m\u001b[0m\u001b[0m\n\u001b[1;32m      7\u001b[0m \u001b[0;34m\u001b[0m\u001b[0m\n\u001b[0;32m----> 8\u001b[0;31m \u001b[0;32mfrom\u001b[0m \u001b[0;34m.\u001b[0m\u001b[0;34m.\u001b[0m\u001b[0mops\u001b[0m\u001b[0;34m.\u001b[0m\u001b[0mmisc\u001b[0m \u001b[0;32mimport\u001b[0m \u001b[0mConv2dNormActivation\u001b[0m\u001b[0;34m,\u001b[0m \u001b[0mPermute\u001b[0m\u001b[0;34m\u001b[0m\u001b[0;34m\u001b[0m\u001b[0m\n\u001b[0m\u001b[1;32m      9\u001b[0m \u001b[0;32mfrom\u001b[0m \u001b[0;34m.\u001b[0m\u001b[0;34m.\u001b[0m\u001b[0mops\u001b[0m\u001b[0;34m.\u001b[0m\u001b[0mstochastic_depth\u001b[0m \u001b[0;32mimport\u001b[0m \u001b[0mStochasticDepth\u001b[0m\u001b[0;34m\u001b[0m\u001b[0;34m\u001b[0m\u001b[0m\n\u001b[1;32m     10\u001b[0m \u001b[0;32mfrom\u001b[0m \u001b[0;34m.\u001b[0m\u001b[0;34m.\u001b[0m\u001b[0mtransforms\u001b[0m\u001b[0;34m.\u001b[0m\u001b[0m_presets\u001b[0m \u001b[0;32mimport\u001b[0m \u001b[0mImageClassification\u001b[0m\u001b[0;34m\u001b[0m\u001b[0;34m\u001b[0m\u001b[0m\n",
            "\u001b[0;32m/usr/local/lib/python3.10/dist-packages/torchvision/ops/__init__.py\u001b[0m in \u001b[0;36m<module>\u001b[0;34m\u001b[0m\n\u001b[1;32m     21\u001b[0m \u001b[0;32mfrom\u001b[0m \u001b[0;34m.\u001b[0m\u001b[0mgiou_loss\u001b[0m \u001b[0;32mimport\u001b[0m \u001b[0mgeneralized_box_iou_loss\u001b[0m\u001b[0;34m\u001b[0m\u001b[0;34m\u001b[0m\u001b[0m\n\u001b[1;32m     22\u001b[0m \u001b[0;32mfrom\u001b[0m \u001b[0;34m.\u001b[0m\u001b[0mmisc\u001b[0m \u001b[0;32mimport\u001b[0m \u001b[0mConv2dNormActivation\u001b[0m\u001b[0;34m,\u001b[0m \u001b[0mConv3dNormActivation\u001b[0m\u001b[0;34m,\u001b[0m \u001b[0mFrozenBatchNorm2d\u001b[0m\u001b[0;34m,\u001b[0m \u001b[0mMLP\u001b[0m\u001b[0;34m,\u001b[0m \u001b[0mPermute\u001b[0m\u001b[0;34m,\u001b[0m \u001b[0mSqueezeExcitation\u001b[0m\u001b[0;34m\u001b[0m\u001b[0;34m\u001b[0m\u001b[0m\n\u001b[0;32m---> 23\u001b[0;31m \u001b[0;32mfrom\u001b[0m \u001b[0;34m.\u001b[0m\u001b[0mpoolers\u001b[0m \u001b[0;32mimport\u001b[0m \u001b[0mMultiScaleRoIAlign\u001b[0m\u001b[0;34m\u001b[0m\u001b[0;34m\u001b[0m\u001b[0m\n\u001b[0m\u001b[1;32m     24\u001b[0m \u001b[0;32mfrom\u001b[0m \u001b[0;34m.\u001b[0m\u001b[0mps_roi_align\u001b[0m \u001b[0;32mimport\u001b[0m \u001b[0mps_roi_align\u001b[0m\u001b[0;34m,\u001b[0m \u001b[0mPSRoIAlign\u001b[0m\u001b[0;34m\u001b[0m\u001b[0;34m\u001b[0m\u001b[0m\n\u001b[1;32m     25\u001b[0m \u001b[0;32mfrom\u001b[0m \u001b[0;34m.\u001b[0m\u001b[0mps_roi_pool\u001b[0m \u001b[0;32mimport\u001b[0m \u001b[0mps_roi_pool\u001b[0m\u001b[0;34m,\u001b[0m \u001b[0mPSRoIPool\u001b[0m\u001b[0;34m\u001b[0m\u001b[0;34m\u001b[0m\u001b[0m\n",
            "\u001b[0;32m/usr/local/lib/python3.10/dist-packages/torchvision/ops/poolers.py\u001b[0m in \u001b[0;36m<module>\u001b[0;34m\u001b[0m\n\u001b[1;32m      8\u001b[0m \u001b[0;34m\u001b[0m\u001b[0m\n\u001b[1;32m      9\u001b[0m \u001b[0;32mfrom\u001b[0m \u001b[0;34m.\u001b[0m\u001b[0;34m.\u001b[0m\u001b[0mutils\u001b[0m \u001b[0;32mimport\u001b[0m \u001b[0m_log_api_usage_once\u001b[0m\u001b[0;34m\u001b[0m\u001b[0;34m\u001b[0m\u001b[0m\n\u001b[0;32m---> 10\u001b[0;31m \u001b[0;32mfrom\u001b[0m \u001b[0;34m.\u001b[0m\u001b[0mroi_align\u001b[0m \u001b[0;32mimport\u001b[0m \u001b[0mroi_align\u001b[0m\u001b[0;34m\u001b[0m\u001b[0;34m\u001b[0m\u001b[0m\n\u001b[0m\u001b[1;32m     11\u001b[0m \u001b[0;34m\u001b[0m\u001b[0m\n\u001b[1;32m     12\u001b[0m \u001b[0;34m\u001b[0m\u001b[0m\n",
            "\u001b[0;32m/usr/local/lib/python3.10/dist-packages/torchvision/ops/roi_align.py\u001b[0m in \u001b[0;36m<module>\u001b[0;34m\u001b[0m\n\u001b[1;32m      5\u001b[0m \u001b[0;32mimport\u001b[0m \u001b[0mtorch\u001b[0m\u001b[0;34m.\u001b[0m\u001b[0mfx\u001b[0m\u001b[0;34m\u001b[0m\u001b[0;34m\u001b[0m\u001b[0m\n\u001b[1;32m      6\u001b[0m \u001b[0;32mfrom\u001b[0m \u001b[0mtorch\u001b[0m \u001b[0;32mimport\u001b[0m \u001b[0mnn\u001b[0m\u001b[0;34m,\u001b[0m \u001b[0mTensor\u001b[0m\u001b[0;34m\u001b[0m\u001b[0;34m\u001b[0m\u001b[0m\n\u001b[0;32m----> 7\u001b[0;31m \u001b[0;32mfrom\u001b[0m \u001b[0mtorch\u001b[0m\u001b[0;34m.\u001b[0m\u001b[0m_dynamo\u001b[0m\u001b[0;34m.\u001b[0m\u001b[0mutils\u001b[0m \u001b[0;32mimport\u001b[0m \u001b[0mis_compile_supported\u001b[0m\u001b[0;34m\u001b[0m\u001b[0;34m\u001b[0m\u001b[0m\n\u001b[0m\u001b[1;32m      8\u001b[0m \u001b[0;32mfrom\u001b[0m \u001b[0mtorch\u001b[0m\u001b[0;34m.\u001b[0m\u001b[0mjit\u001b[0m\u001b[0;34m.\u001b[0m\u001b[0mannotations\u001b[0m \u001b[0;32mimport\u001b[0m \u001b[0mBroadcastingList2\u001b[0m\u001b[0;34m\u001b[0m\u001b[0;34m\u001b[0m\u001b[0m\n\u001b[1;32m      9\u001b[0m \u001b[0;32mfrom\u001b[0m \u001b[0mtorch\u001b[0m\u001b[0;34m.\u001b[0m\u001b[0mnn\u001b[0m\u001b[0;34m.\u001b[0m\u001b[0mmodules\u001b[0m\u001b[0;34m.\u001b[0m\u001b[0mutils\u001b[0m \u001b[0;32mimport\u001b[0m \u001b[0m_pair\u001b[0m\u001b[0;34m\u001b[0m\u001b[0;34m\u001b[0m\u001b[0m\n",
            "\u001b[0;32m/usr/local/lib/python3.10/dist-packages/torch/_dynamo/__init__.py\u001b[0m in \u001b[0;36m<module>\u001b[0;34m\u001b[0m\n\u001b[1;32m      1\u001b[0m \u001b[0;32mimport\u001b[0m \u001b[0mtorch\u001b[0m\u001b[0;34m\u001b[0m\u001b[0;34m\u001b[0m\u001b[0m\n\u001b[1;32m      2\u001b[0m \u001b[0;34m\u001b[0m\u001b[0m\n\u001b[0;32m----> 3\u001b[0;31m \u001b[0;32mfrom\u001b[0m \u001b[0;34m.\u001b[0m \u001b[0;32mimport\u001b[0m \u001b[0mconvert_frame\u001b[0m\u001b[0;34m,\u001b[0m \u001b[0meval_frame\u001b[0m\u001b[0;34m,\u001b[0m \u001b[0mresume_execution\u001b[0m\u001b[0;34m\u001b[0m\u001b[0;34m\u001b[0m\u001b[0m\n\u001b[0m\u001b[1;32m      4\u001b[0m \u001b[0;32mfrom\u001b[0m \u001b[0;34m.\u001b[0m\u001b[0mbackends\u001b[0m\u001b[0;34m.\u001b[0m\u001b[0mregistry\u001b[0m \u001b[0;32mimport\u001b[0m \u001b[0mlist_backends\u001b[0m\u001b[0;34m,\u001b[0m \u001b[0mlookup_backend\u001b[0m\u001b[0;34m,\u001b[0m \u001b[0mregister_backend\u001b[0m\u001b[0;34m\u001b[0m\u001b[0;34m\u001b[0m\u001b[0m\n\u001b[1;32m      5\u001b[0m \u001b[0;32mfrom\u001b[0m \u001b[0;34m.\u001b[0m\u001b[0mcallback\u001b[0m \u001b[0;32mimport\u001b[0m \u001b[0mcallback_handler\u001b[0m\u001b[0;34m,\u001b[0m \u001b[0mon_compile_end\u001b[0m\u001b[0;34m,\u001b[0m \u001b[0mon_compile_start\u001b[0m\u001b[0;34m\u001b[0m\u001b[0;34m\u001b[0m\u001b[0m\n",
            "\u001b[0;32m/usr/local/lib/python3.10/dist-packages/torch/_dynamo/convert_frame.py\u001b[0m in \u001b[0;36m<module>\u001b[0;34m\u001b[0m\n\u001b[1;32m     86\u001b[0m \u001b[0;32mfrom\u001b[0m \u001b[0;34m.\u001b[0m\u001b[0mhooks\u001b[0m \u001b[0;32mimport\u001b[0m \u001b[0mHooks\u001b[0m\u001b[0;34m\u001b[0m\u001b[0;34m\u001b[0m\u001b[0m\n\u001b[1;32m     87\u001b[0m \u001b[0;32mfrom\u001b[0m \u001b[0;34m.\u001b[0m\u001b[0mreplay_record\u001b[0m \u001b[0;32mimport\u001b[0m \u001b[0mExecutionRecord\u001b[0m\u001b[0;34m\u001b[0m\u001b[0;34m\u001b[0m\u001b[0m\n\u001b[0;32m---> 88\u001b[0;31m from .symbolic_convert import (\n\u001b[0m\u001b[1;32m     89\u001b[0m     \u001b[0mDistributedState\u001b[0m\u001b[0;34m,\u001b[0m\u001b[0;34m\u001b[0m\u001b[0;34m\u001b[0m\u001b[0m\n\u001b[1;32m     90\u001b[0m     \u001b[0mInstructionTranslator\u001b[0m\u001b[0;34m,\u001b[0m\u001b[0;34m\u001b[0m\u001b[0;34m\u001b[0m\u001b[0m\n",
            "\u001b[0;32m/usr/local/lib/python3.10/dist-packages/torch/_dynamo/symbolic_convert.py\u001b[0m in \u001b[0;36m<module>\u001b[0;34m\u001b[0m\n\u001b[1;32m     63\u001b[0m \u001b[0;32mfrom\u001b[0m \u001b[0;34m.\u001b[0m\u001b[0mfuncname_cache\u001b[0m \u001b[0;32mimport\u001b[0m \u001b[0mget_funcname\u001b[0m\u001b[0;34m\u001b[0m\u001b[0;34m\u001b[0m\u001b[0m\n\u001b[1;32m     64\u001b[0m \u001b[0;32mfrom\u001b[0m \u001b[0;34m.\u001b[0m\u001b[0mguards\u001b[0m \u001b[0;32mimport\u001b[0m \u001b[0mGuardBuilder\u001b[0m\u001b[0;34m,\u001b[0m \u001b[0minstall_guard\u001b[0m\u001b[0;34m\u001b[0m\u001b[0;34m\u001b[0m\u001b[0m\n\u001b[0;32m---> 65\u001b[0;31m \u001b[0;32mfrom\u001b[0m \u001b[0;34m.\u001b[0m\u001b[0moutput_graph\u001b[0m \u001b[0;32mimport\u001b[0m \u001b[0mGraphCompileReason\u001b[0m\u001b[0;34m,\u001b[0m \u001b[0mOutputGraph\u001b[0m\u001b[0;34m\u001b[0m\u001b[0;34m\u001b[0m\u001b[0m\n\u001b[0m\u001b[1;32m     66\u001b[0m \u001b[0;32mfrom\u001b[0m \u001b[0;34m.\u001b[0m\u001b[0mreplay_record\u001b[0m \u001b[0;32mimport\u001b[0m \u001b[0mDummyModule\u001b[0m\u001b[0;34m,\u001b[0m \u001b[0mExecutionRecorder\u001b[0m\u001b[0;34m\u001b[0m\u001b[0;34m\u001b[0m\u001b[0m\n\u001b[1;32m     67\u001b[0m \u001b[0;32mfrom\u001b[0m \u001b[0;34m.\u001b[0m\u001b[0mresume_execution\u001b[0m \u001b[0;32mimport\u001b[0m \u001b[0mContinueExecutionCache\u001b[0m\u001b[0;34m,\u001b[0m \u001b[0mReenterWith\u001b[0m\u001b[0;34m\u001b[0m\u001b[0;34m\u001b[0m\u001b[0m\n",
            "\u001b[0;31mKeyboardInterrupt\u001b[0m: "
          ]
        }
      ]
    },
    {
      "cell_type": "code",
      "source": [
        "import numpy as np\n",
        "\n",
        "file_path = '/content/drive/MyDrive/Mini Project - 2.0/data/processed_images.npz'\n",
        "data = np.load(file_path)\n",
        "\n",
        "# List all keys in the .npz file\n",
        "print(f\"Keys in the .npz file: {data.files}\")\n",
        "\n",
        "eeg_images = data['eeg_images']  # Replace 'arr_0' with the actual key\n",
        "print(f\"Shape of eeg_images: {eeg_images.shape}\")\n"
      ],
      "metadata": {
        "id": "jv-oRu_dJY31"
      },
      "execution_count": null,
      "outputs": []
    },
    {
      "cell_type": "markdown",
      "source": [
        "## 2. Loading the EEG Data and Clinical data"
      ],
      "metadata": {
        "id": "cHXlu1Jp1G7O"
      }
    },
    {
      "cell_type": "code",
      "source": [
        "import os\n",
        "import numpy as np\n",
        "import pandas as pd\n",
        "from sklearn.preprocessing import MinMaxScaler\n",
        "from tqdm import tqdm  # For progress tracking\n",
        "\n",
        "# Function to load clinical data\n",
        "def load_clinical_data(tsv_file):\n",
        "    \"\"\"\n",
        "    Load clinical data from a TSV file.\n",
        "\n",
        "    Parameters:\n",
        "        tsv_file (str): Path to the clinical data TSV file.\n",
        "\n",
        "    Returns:\n",
        "        pd.DataFrame: DataFrame with clinical data indexed by participant_id.\n",
        "    \"\"\"\n",
        "    clinical_df = pd.read_csv(tsv_file, sep='\\t')\n",
        "    clinical_df.set_index('participant_id', inplace=True)\n",
        "    return clinical_df\n",
        "\n",
        "# Function to normalize data\n",
        "def normalize_data(data, feature_range=(0, 1)):\n",
        "    \"\"\"\n",
        "    Normalize data using MinMaxScaler.\n",
        "\n",
        "    Parameters:\n",
        "        data (np.array): Input data to normalize.\n",
        "        feature_range (tuple): Desired range of transformed data.\n",
        "\n",
        "    Returns:\n",
        "        np.array: Normalized data.\n",
        "    \"\"\"\n",
        "    scaler = MinMaxScaler(feature_range=feature_range)\n",
        "    return scaler.fit_transform(data)\n",
        "\n",
        "# Function to load EEG data\n",
        "def load_subject_data(base_path, subjects, clinical_df, num_segments=19, num_channels=19, num_features=16):\n",
        "    \"\"\"\n",
        "    Load EEG data for all subjects and combine with clinical data.\n",
        "\n",
        "    Parameters:\n",
        "        base_path (str): Path to the data directory.\n",
        "        subjects (list): List of subject folder names in three-digit format (e.g., ['sub-001', 'sub-002']).\n",
        "        clinical_df (pd.DataFrame): DataFrame with clinical data, indexed by participant_id.\n",
        "        num_segments (int): Number of segments per subject.\n",
        "        num_channels (int): Number of channels per segment (19 channels).\n",
        "        num_features (int): Number of features per channel (16 features).\n",
        "\n",
        "    Returns:\n",
        "        tuple: EEG data array (num_subjects, num_segments, num_channels * num_features),\n",
        "               Clinical data array (num_subjects, num_clinical_features),\n",
        "               Labels array (num_subjects,).\n",
        "    \"\"\"\n",
        "    eeg_data = []      # To store EEG features for each subject\n",
        "    clinical_data = [] # To store clinical data for each subject\n",
        "    labels = []        # To store labels (A/F/C) for each subject\n",
        "\n",
        "    # Iterate over each subject directory\n",
        "    for subject in tqdm(subjects, desc=\"Loading Subjects\"):\n",
        "        subject_path = os.path.join(base_path, subject)\n",
        "        subject_segments = []\n",
        "\n",
        "        # Load each segment CSV file\n",
        "        for i in range(1, num_segments + 1):\n",
        "            segment_file = os.path.join(subject_path, f'{subject}_task-eyeclosed_eeg_segment-{i}_features.csv')\n",
        "\n",
        "            if not os.path.exists(segment_file):\n",
        "                print(f\"Warning: File {segment_file} not found. Skipping segment.\")\n",
        "                continue\n",
        "\n",
        "            segment_df = pd.read_csv(segment_file, header=None)\n",
        "            segment_df = segment_df.apply(pd.to_numeric, errors='coerce')\n",
        "            segment_df = segment_df.dropna(axis=1, how='all').dropna(axis=0, how='any')\n",
        "            segment_flat = segment_df.values.flatten()\n",
        "            subject_segments.append(segment_flat)\n",
        "\n",
        "        if len(subject_segments) != num_segments:\n",
        "            print(f\"Warning: Incomplete data for {subject}. Skipping this subject.\")\n",
        "            continue\n",
        "\n",
        "        subject_segments = np.array(subject_segments)\n",
        "        eeg_data.append(subject_segments)\n",
        "\n",
        "        clinical_info = clinical_df.loc[subject]\n",
        "        clinical_features = clinical_info[['Age', 'Gender', 'MMSE']].values\n",
        "\n",
        "        if isinstance(clinical_features[1], str):\n",
        "            clinical_features[1] = 1 if clinical_features[1].lower() == 'male' else 0\n",
        "\n",
        "        label = clinical_info['Group']\n",
        "        clinical_data.append(clinical_features)\n",
        "        labels.append(label)\n",
        "\n",
        "    eeg_data = np.array(eeg_data)\n",
        "    clinical_data = np.array(clinical_data)\n",
        "    labels = np.array(labels)\n",
        "\n",
        "    return eeg_data, clinical_data, labels\n",
        "\n",
        "# Main script\n",
        "if __name__ == \"__main__\":\n",
        "    # Define paths\n",
        "    tsv_file = '/content/drive/MyDrive/Mini Project - 2.0/data/participants_updated.tsv'\n",
        "    base_path = '/content/drive/MyDrive/Mini Project - 2.0/data/temporal_features'\n",
        "    subjects = [f'sub-{i:03}' for i in range(1, 89)]\n",
        "\n",
        "    # Load clinical data\n",
        "    clinical_df = load_clinical_data(tsv_file)\n",
        "\n",
        "    # Load EEG and clinical data\n",
        "    eeg_data, clinical_data, labels = load_subject_data(base_path, subjects, clinical_df)\n",
        "\n",
        "    # Normalize EEG data\n",
        "    eeg_data_normalized = []\n",
        "    for subject in eeg_data:\n",
        "        subject_normalized = []\n",
        "        for segment in subject:\n",
        "            segment = segment.reshape(19, 16)  # Reshape back to (num_channels, num_features)\n",
        "            segment_normalized = normalize_data(segment)  # Normalize each channel's features\n",
        "            subject_normalized.append(segment_normalized)\n",
        "        eeg_data_normalized.append(subject_normalized)\n",
        "\n",
        "    # Convert to numpy array with shape (88, 19, 19, 16)\n",
        "    eeg_signal = np.array(eeg_data_normalized)\n",
        "\n",
        "    # Normalize clinical data\n",
        "    eeg_clinical = normalize_data(clinical_data)\n",
        "\n",
        "    # Print shapes for verification\n",
        "    print(f\"Shape of eeg_signal: {eeg_signal.shape}\")  # (88, 19, 19, 16)\n",
        "    print(f\"Shape of eeg_clinical: {eeg_clinical.shape}\")  # (88, 3)\n",
        "\n",
        "    # Save normalized data\n",
        "    np.save('/content/drive/MyDrive/Mini Project - 2.0/data/eeg_signal.npy', eeg_signal)\n",
        "    np.save('/content/drive/MyDrive/Mini Project - 2.0/data/eeg_clinical.npy', eeg_clinical)\n",
        "    print(\"Normalized data saved successfully.\")\n"
      ],
      "metadata": {
        "id": "nmx3v6dFuMk-"
      },
      "execution_count": null,
      "outputs": []
    },
    {
      "cell_type": "code",
      "source": [
        "import numpy as np\n",
        "import pandas as pd\n",
        "from sklearn.preprocessing import OneHotEncoder\n",
        "\n",
        "# Load the clinical data\n",
        "clinical_tsv_file = '/content/drive/MyDrive/Mini Project - 2.0/data/participants_updated.tsv'\n",
        "clinical_df = pd.read_csv(clinical_tsv_file, sep='\\t')\n",
        "\n",
        "# Check the unique values in the 'Group' column\n",
        "print(f\"Unique values in 'Group' column: {clinical_df['Group'].unique()}\")\n",
        "\n",
        "# If the 'Group' column already contains numeric labels (0, 1, 2), we can directly use these\n",
        "# without mapping them again. We will just one-hot encode them.\n",
        "\n",
        "# One-hot encode the labels (assuming they are numeric)\n",
        "def one_hot_encode_labels(labels):\n",
        "    encoder = OneHotEncoder(sparse_output=False, categories='auto')  # Corrected argument for non-sparse output\n",
        "    labels_encoded = encoder.fit_transform(labels.reshape(-1, 1))\n",
        "    return labels_encoded\n",
        "\n",
        "# One-hot encode the labels\n",
        "one_hot_labels = one_hot_encode_labels(clinical_df['Group'].values)\n",
        "\n",
        "# Save the one-hot encoded labels\n",
        "np.save('/content/drive/MyDrive/Mini Project - 2.0/data/one_hot_labels.npy', one_hot_labels)\n",
        "\n",
        "# Output confirmation\n",
        "print(f\"Shape of one_hot_labels: {one_hot_labels.shape}\")\n",
        "print(\"One-hot encoded labels saved successfully.\")\n"
      ],
      "metadata": {
        "id": "UjqlpBzlyQWi"
      },
      "execution_count": null,
      "outputs": []
    },
    {
      "cell_type": "markdown",
      "source": [
        "## 3. Analysing the Dataset (npy arrays)"
      ],
      "metadata": {
        "id": "jRiHlC4p2Prx"
      }
    },
    {
      "cell_type": "code",
      "source": [
        "import numpy as np\n",
        "\n",
        "# Load the data files\n",
        "file_path = '/content/drive/MyDrive/Mini Project - 2.0/data/processed_images.npz'\n",
        "data = np.load(file_path)\n",
        "eeg_images = data['eeg_images']\n",
        "\n",
        "eeg_clinical = np.load('/content/drive/MyDrive/Mini Project - 2.0/data/eeg_clinical.npy')\n",
        "eeg_signal = np.load('/content/drive/MyDrive/Mini Project - 2.0/data/eeg_signal.npy')\n",
        "labels = np.load('/content/drive/MyDrive/Mini Project - 2.0/data/one_hot_labels.npy')\n",
        "\n",
        "\n",
        "# Check the shape of the loaded data to confirm they are correct\n",
        "print(f\"eeg_images shape: {eeg_images.shape}\")\n",
        "print(f\"eeg_clinical shape: {eeg_clinical.shape}\")\n",
        "print(f\"eeg_signal shape: {eeg_signal.shape}\")\n",
        "print(f\"labels shape: {labels.shape}\")\n"
      ],
      "metadata": {
        "colab": {
          "base_uri": "https://localhost:8080/"
        },
        "id": "ob7kgO3Y2Olf",
        "outputId": "ce15281e-0d42-463e-92d7-bc5d38bfbc2b"
      },
      "execution_count": 1,
      "outputs": [
        {
          "output_type": "stream",
          "name": "stdout",
          "text": [
            "eeg_images shape: (88, 19, 768)\n",
            "eeg_clinical shape: (88, 3)\n",
            "eeg_signal shape: (88, 19, 19, 16)\n",
            "labels shape: (88, 3)\n"
          ]
        }
      ]
    },
    {
      "cell_type": "code",
      "source": [
        "import numpy as np\n",
        "\n",
        "# Assuming eeg_signal has the shape (88, 19, 19, 16)\n",
        "print(f\"Original shape of eeg_signal: {eeg_signal.shape}\")\n",
        "\n",
        "# Reshape the eeg_signal from (88, 19, 19, 16) to (88, 19, 304)\n",
        "eeg_signal_res = eeg_signal.reshape(88, 19, 304)\n",
        "\n",
        "# Check the new shape\n",
        "print(f\"New shape of eeg_signal: {eeg_signal_res.shape}\")\n",
        "eeg_signal = eeg_signal_res\n",
        "\n",
        "# Assuming eeg_signal has the shape (88, 19, 19, 16)\n",
        "print(f\"Updating the variable shape of eeg_signal: {eeg_signal.shape}\")"
      ],
      "metadata": {
        "colab": {
          "base_uri": "https://localhost:8080/"
        },
        "id": "_CZaGKUt5HJA",
        "outputId": "3b6775be-5596-4d7b-ffdf-b1110f8bbcb9"
      },
      "execution_count": 2,
      "outputs": [
        {
          "output_type": "stream",
          "name": "stdout",
          "text": [
            "Original shape of eeg_signal: (88, 19, 19, 16)\n",
            "New shape of eeg_signal: (88, 19, 304)\n",
            "Updating the variable shape of eeg_signal: (88, 19, 304)\n"
          ]
        }
      ]
    },
    {
      "cell_type": "code",
      "source": [
        "# Check mean and standard deviation for each dataset\n",
        "print(\"Checking normalization for eeg_images...\")\n",
        "print(f\"Mean of eeg_images: {np.mean(eeg_images)}\")\n",
        "print(f\"Standard deviation of eeg_images: {np.std(eeg_images)}\")\n",
        "\n",
        "print(\"Checking normalization for eeg_clinical...\")\n",
        "print(f\"Mean of eeg_clinical: {np.mean(eeg_clinical)}\")\n",
        "print(f\"Standard deviation of eeg_clinical: {np.std(eeg_clinical)}\")\n",
        "\n",
        "print(\"Checking normalization for eeg_signal...\")\n",
        "print(f\"Mean of eeg_signal: {np.mean(eeg_signal)}\")\n",
        "print(f\"Standard deviation of eeg_signal: {np.std(eeg_signal)}\")\n"
      ],
      "metadata": {
        "colab": {
          "base_uri": "https://localhost:8080/"
        },
        "id": "ZJl0dqk72l-k",
        "outputId": "fcb6d1d2-696d-4686-c3b2-073263fb7848"
      },
      "execution_count": 3,
      "outputs": [
        {
          "output_type": "stream",
          "name": "stdout",
          "text": [
            "Checking normalization for eeg_images...\n",
            "Mean of eeg_images: -0.018560945987701416\n",
            "Standard deviation of eeg_images: 0.16616365313529968\n",
            "Checking normalization for eeg_clinical...\n",
            "Mean of eeg_clinical: 0.6206751581751583\n",
            "Standard deviation of eeg_clinical: 0.3537602168197255\n",
            "Checking normalization for eeg_signal...\n",
            "Mean of eeg_signal: 0.37288930747104165\n",
            "Standard deviation of eeg_signal: 0.2990867831426366\n"
          ]
        }
      ]
    },
    {
      "cell_type": "code",
      "source": [
        "eeg_images.shape"
      ],
      "metadata": {
        "colab": {
          "base_uri": "https://localhost:8080/"
        },
        "id": "97OcVcZ37A_x",
        "outputId": "73d6cf9c-d387-4d8b-b3cf-aab422545aad"
      },
      "execution_count": 4,
      "outputs": [
        {
          "output_type": "execute_result",
          "data": {
            "text/plain": [
              "(88, 19, 768)"
            ]
          },
          "metadata": {},
          "execution_count": 4
        }
      ]
    },
    {
      "cell_type": "code",
      "source": [
        "from sklearn.preprocessing import StandardScaler\n",
        "\n",
        "# Standardize the data\n",
        "scaler = StandardScaler()\n",
        "\n",
        "# Standardize eeg_images (keep the same shape)\n",
        "eeg_images_standardized = scaler.fit_transform(eeg_images.reshape(-1, eeg_images.shape[-1])).reshape(eeg_images.shape)\n",
        "\n",
        "# Standardize eeg_clinical (already 2D, so no reshape needed)\n",
        "eeg_clinical_standardized = scaler.fit_transform(eeg_clinical)\n",
        "\n",
        "# Standardize eeg_signal: Reshape from 3D to 2D, then back to 3D\n",
        "# Assuming eeg_signal has shape (samples, channels, time)\n",
        "eeg_signal_reshaped = eeg_signal.reshape(-1, eeg_signal.shape[-1])  # Flatten the samples and channels/dimensions\n",
        "eeg_signal_standardized = scaler.fit_transform(eeg_signal_reshaped)  # Standardize the reshaped data\n",
        "eeg_signal_standardized = eeg_signal_standardized.reshape(eeg_signal.shape)  # Reshape back to original 3D shape\n",
        "\n",
        "# Check the statistics again\n",
        "print(f\"Standardized eeg_images mean: {np.mean(eeg_images_standardized)}, std: {np.std(eeg_images_standardized)}\")\n",
        "print(f\"Standardized eeg_clinical mean: {np.mean(eeg_clinical_standardized)}, std: {np.std(eeg_clinical_standardized)}\")\n",
        "print(f\"Standardized eeg_signal mean: {np.mean(eeg_signal_standardized)}, std: {np.std(eeg_signal_standardized)}\")\n"
      ],
      "metadata": {
        "colab": {
          "base_uri": "https://localhost:8080/"
        },
        "id": "uNF9p6u221Sv",
        "outputId": "18368b10-d38a-4721-8b72-b14dce562797"
      },
      "execution_count": 5,
      "outputs": [
        {
          "output_type": "stream",
          "name": "stdout",
          "text": [
            "Standardized eeg_images mean: -5.243331324678024e-10, std: 1.0\n",
            "Standardized eeg_clinical mean: 2.6914497566670462e-17, std: 1.0\n",
            "Standardized eeg_signal mean: 1.1153254094650985e-16, std: 0.9999999999999998\n"
          ]
        }
      ]
    },
    {
      "cell_type": "code",
      "source": [
        "# Check the shape of the loaded data to confirm they are correct\n",
        "print(f\"eeg_images shape: {eeg_images_standardized.shape}\")\n",
        "print(f\"eeg_clinical shape: {eeg_clinical_standardized.shape}\")\n",
        "print(f\"eeg_signal shape: {eeg_signal_standardized.shape}\")\n",
        "print(f\"labels shape: {labels.shape}\")"
      ],
      "metadata": {
        "colab": {
          "base_uri": "https://localhost:8080/"
        },
        "id": "ek8Zu-3G3eHM",
        "outputId": "9016aa37-1ae4-4c15-e682-1518d14e536b"
      },
      "execution_count": 6,
      "outputs": [
        {
          "output_type": "stream",
          "name": "stdout",
          "text": [
            "eeg_images shape: (88, 19, 768)\n",
            "eeg_clinical shape: (88, 3)\n",
            "eeg_signal shape: (88, 19, 304)\n",
            "labels shape: (88, 3)\n"
          ]
        }
      ]
    },
    {
      "cell_type": "code",
      "source": [
        "# Save the standardized data\n",
        "#np.save('/content/drive/MyDrive/Mini Project - 2.0/data/eeg_images_standardized.npy', eeg_images_standardized)\n",
        "#np.save('/content/drive/MyDrive/Mini Project - 2.0/data/eeg_clinical_standardized.npy', eeg_clinical_standardized)\n",
        "#np.save('/content/drive/MyDrive/Mini Project - 2.0/data/eeg_signal_standardized.npy', eeg_signal_standardized)\n",
        "\n",
        "#print(\"Standardized data saved successfully!\")\n"
      ],
      "metadata": {
        "id": "AV_Z-EDY3WHZ"
      },
      "execution_count": 7,
      "outputs": []
    },
    {
      "cell_type": "markdown",
      "source": [
        "## 4. Building the model"
      ],
      "metadata": {
        "id": "dbgO9p1T2Tif"
      }
    },
    {
      "cell_type": "code",
      "source": [
        "from tensorflow.keras.models import Model\n",
        "from tensorflow.keras.layers import Input, LSTM, Dense, Concatenate, Dropout, Flatten, Conv1D, MaxPooling1D\n",
        "from tensorflow.keras.optimizers import Adam\n",
        "from tensorflow.keras.regularizers import l2\n",
        "\n",
        "# EEG Input\n",
        "eeg_input = Input(shape=(19, 304), name='eeg_input')  # Reshaped EEG signal data (19 channels, 304 features)\n",
        "x1 = LSTM(32, return_sequences=False)(eeg_input)  # Reduced LSTM units\n",
        "x1 = Dropout(0.2)(x1)\n",
        "\n",
        "# Clinical Input\n",
        "clinical_input = Input(shape=(3,), name='clinical_input')  # 3 features (Age, Gender, MMSE)\n",
        "x2 = Dense(16, activation='relu')(clinical_input)  # Reduced dense units\n",
        "x2 = Dropout(0.2)(x2)\n",
        "\n",
        "# Image Features Input\n",
        "image_input = Input(shape=(19, 768), name='image_input')  # 19 segments, each with 768 extracted features\n",
        "x3 = Conv1D(64, kernel_size=3, activation='relu')(image_input)  # Reduced number of filters\n",
        "x3 = MaxPooling1D(pool_size=2)(x3)\n",
        "x3 = Flatten()(x3)\n",
        "x3 = Dropout(0.2)(x3)\n",
        "\n",
        "# Concatenate EEG, Clinical, and Image features\n",
        "combined = Concatenate()([x1, x2, x3])\n",
        "\n",
        "# Add Dense Layers after Concatenation\n",
        "x = Dense(32, activation='relu', kernel_regularizer=l2(0.01))(combined)  # Reduced dense layer size\n",
        "x = Dropout(0.2)(x)\n",
        "\n",
        "# Output Layer\n",
        "output = Dense(3, activation='softmax')(x)  # For multi-class classification (adjust as per your problem)\n",
        "\n",
        "# Define the model\n",
        "model = Model(inputs=[eeg_input, clinical_input, image_input], outputs=output)\n",
        "\n",
        "# Compile the model\n",
        "model.compile(optimizer=Adam(learning_rate=0.001), loss='categorical_crossentropy', metrics=['accuracy'])\n",
        "\n",
        "# Model Summary\n",
        "model.summary()\n"
      ],
      "metadata": {
        "colab": {
          "base_uri": "https://localhost:8080/",
          "height": 666
        },
        "id": "ErCcESGL2VLj",
        "outputId": "62d9eae8-d452-4ef8-e873-f89ed7a05065"
      },
      "execution_count": 8,
      "outputs": [
        {
          "output_type": "display_data",
          "data": {
            "text/plain": [
              "\u001b[1mModel: \"functional\"\u001b[0m\n"
            ],
            "text/html": [
              "<pre style=\"white-space:pre;overflow-x:auto;line-height:normal;font-family:Menlo,'DejaVu Sans Mono',consolas,'Courier New',monospace\"><span style=\"font-weight: bold\">Model: \"functional\"</span>\n",
              "</pre>\n"
            ]
          },
          "metadata": {}
        },
        {
          "output_type": "display_data",
          "data": {
            "text/plain": [
              "┏━━━━━━━━━━━━━━━━━━━━━━━━━━━┳━━━━━━━━━━━━━━━━━━━━━━━━┳━━━━━━━━━━━━━━━━┳━━━━━━━━━━━━━━━━━━━━━━━━┓\n",
              "┃\u001b[1m \u001b[0m\u001b[1mLayer (type)             \u001b[0m\u001b[1m \u001b[0m┃\u001b[1m \u001b[0m\u001b[1mOutput Shape          \u001b[0m\u001b[1m \u001b[0m┃\u001b[1m \u001b[0m\u001b[1m       Param #\u001b[0m\u001b[1m \u001b[0m┃\u001b[1m \u001b[0m\u001b[1mConnected to          \u001b[0m\u001b[1m \u001b[0m┃\n",
              "┡━━━━━━━━━━━━━━━━━━━━━━━━━━━╇━━━━━━━━━━━━━━━━━━━━━━━━╇━━━━━━━━━━━━━━━━╇━━━━━━━━━━━━━━━━━━━━━━━━┩\n",
              "│ image_input (\u001b[38;5;33mInputLayer\u001b[0m)  │ (\u001b[38;5;45mNone\u001b[0m, \u001b[38;5;34m19\u001b[0m, \u001b[38;5;34m768\u001b[0m)        │              \u001b[38;5;34m0\u001b[0m │ -                      │\n",
              "├───────────────────────────┼────────────────────────┼────────────────┼────────────────────────┤\n",
              "│ conv1d (\u001b[38;5;33mConv1D\u001b[0m)           │ (\u001b[38;5;45mNone\u001b[0m, \u001b[38;5;34m17\u001b[0m, \u001b[38;5;34m64\u001b[0m)         │        \u001b[38;5;34m147,520\u001b[0m │ image_input[\u001b[38;5;34m0\u001b[0m][\u001b[38;5;34m0\u001b[0m]      │\n",
              "├───────────────────────────┼────────────────────────┼────────────────┼────────────────────────┤\n",
              "│ eeg_input (\u001b[38;5;33mInputLayer\u001b[0m)    │ (\u001b[38;5;45mNone\u001b[0m, \u001b[38;5;34m19\u001b[0m, \u001b[38;5;34m304\u001b[0m)        │              \u001b[38;5;34m0\u001b[0m │ -                      │\n",
              "├───────────────────────────┼────────────────────────┼────────────────┼────────────────────────┤\n",
              "│ clinical_input            │ (\u001b[38;5;45mNone\u001b[0m, \u001b[38;5;34m3\u001b[0m)              │              \u001b[38;5;34m0\u001b[0m │ -                      │\n",
              "│ (\u001b[38;5;33mInputLayer\u001b[0m)              │                        │                │                        │\n",
              "├───────────────────────────┼────────────────────────┼────────────────┼────────────────────────┤\n",
              "│ max_pooling1d             │ (\u001b[38;5;45mNone\u001b[0m, \u001b[38;5;34m8\u001b[0m, \u001b[38;5;34m64\u001b[0m)          │              \u001b[38;5;34m0\u001b[0m │ conv1d[\u001b[38;5;34m0\u001b[0m][\u001b[38;5;34m0\u001b[0m]           │\n",
              "│ (\u001b[38;5;33mMaxPooling1D\u001b[0m)            │                        │                │                        │\n",
              "├───────────────────────────┼────────────────────────┼────────────────┼────────────────────────┤\n",
              "│ lstm (\u001b[38;5;33mLSTM\u001b[0m)               │ (\u001b[38;5;45mNone\u001b[0m, \u001b[38;5;34m32\u001b[0m)             │         \u001b[38;5;34m43,136\u001b[0m │ eeg_input[\u001b[38;5;34m0\u001b[0m][\u001b[38;5;34m0\u001b[0m]        │\n",
              "├───────────────────────────┼────────────────────────┼────────────────┼────────────────────────┤\n",
              "│ dense (\u001b[38;5;33mDense\u001b[0m)             │ (\u001b[38;5;45mNone\u001b[0m, \u001b[38;5;34m16\u001b[0m)             │             \u001b[38;5;34m64\u001b[0m │ clinical_input[\u001b[38;5;34m0\u001b[0m][\u001b[38;5;34m0\u001b[0m]   │\n",
              "├───────────────────────────┼────────────────────────┼────────────────┼────────────────────────┤\n",
              "│ flatten (\u001b[38;5;33mFlatten\u001b[0m)         │ (\u001b[38;5;45mNone\u001b[0m, \u001b[38;5;34m512\u001b[0m)            │              \u001b[38;5;34m0\u001b[0m │ max_pooling1d[\u001b[38;5;34m0\u001b[0m][\u001b[38;5;34m0\u001b[0m]    │\n",
              "├───────────────────────────┼────────────────────────┼────────────────┼────────────────────────┤\n",
              "│ dropout (\u001b[38;5;33mDropout\u001b[0m)         │ (\u001b[38;5;45mNone\u001b[0m, \u001b[38;5;34m32\u001b[0m)             │              \u001b[38;5;34m0\u001b[0m │ lstm[\u001b[38;5;34m0\u001b[0m][\u001b[38;5;34m0\u001b[0m]             │\n",
              "├───────────────────────────┼────────────────────────┼────────────────┼────────────────────────┤\n",
              "│ dropout_1 (\u001b[38;5;33mDropout\u001b[0m)       │ (\u001b[38;5;45mNone\u001b[0m, \u001b[38;5;34m16\u001b[0m)             │              \u001b[38;5;34m0\u001b[0m │ dense[\u001b[38;5;34m0\u001b[0m][\u001b[38;5;34m0\u001b[0m]            │\n",
              "├───────────────────────────┼────────────────────────┼────────────────┼────────────────────────┤\n",
              "│ dropout_2 (\u001b[38;5;33mDropout\u001b[0m)       │ (\u001b[38;5;45mNone\u001b[0m, \u001b[38;5;34m512\u001b[0m)            │              \u001b[38;5;34m0\u001b[0m │ flatten[\u001b[38;5;34m0\u001b[0m][\u001b[38;5;34m0\u001b[0m]          │\n",
              "├───────────────────────────┼────────────────────────┼────────────────┼────────────────────────┤\n",
              "│ concatenate (\u001b[38;5;33mConcatenate\u001b[0m) │ (\u001b[38;5;45mNone\u001b[0m, \u001b[38;5;34m560\u001b[0m)            │              \u001b[38;5;34m0\u001b[0m │ dropout[\u001b[38;5;34m0\u001b[0m][\u001b[38;5;34m0\u001b[0m],         │\n",
              "│                           │                        │                │ dropout_1[\u001b[38;5;34m0\u001b[0m][\u001b[38;5;34m0\u001b[0m],       │\n",
              "│                           │                        │                │ dropout_2[\u001b[38;5;34m0\u001b[0m][\u001b[38;5;34m0\u001b[0m]        │\n",
              "├───────────────────────────┼────────────────────────┼────────────────┼────────────────────────┤\n",
              "│ dense_1 (\u001b[38;5;33mDense\u001b[0m)           │ (\u001b[38;5;45mNone\u001b[0m, \u001b[38;5;34m32\u001b[0m)             │         \u001b[38;5;34m17,952\u001b[0m │ concatenate[\u001b[38;5;34m0\u001b[0m][\u001b[38;5;34m0\u001b[0m]      │\n",
              "├───────────────────────────┼────────────────────────┼────────────────┼────────────────────────┤\n",
              "│ dropout_3 (\u001b[38;5;33mDropout\u001b[0m)       │ (\u001b[38;5;45mNone\u001b[0m, \u001b[38;5;34m32\u001b[0m)             │              \u001b[38;5;34m0\u001b[0m │ dense_1[\u001b[38;5;34m0\u001b[0m][\u001b[38;5;34m0\u001b[0m]          │\n",
              "├───────────────────────────┼────────────────────────┼────────────────┼────────────────────────┤\n",
              "│ dense_2 (\u001b[38;5;33mDense\u001b[0m)           │ (\u001b[38;5;45mNone\u001b[0m, \u001b[38;5;34m3\u001b[0m)              │             \u001b[38;5;34m99\u001b[0m │ dropout_3[\u001b[38;5;34m0\u001b[0m][\u001b[38;5;34m0\u001b[0m]        │\n",
              "└───────────────────────────┴────────────────────────┴────────────────┴────────────────────────┘\n"
            ],
            "text/html": [
              "<pre style=\"white-space:pre;overflow-x:auto;line-height:normal;font-family:Menlo,'DejaVu Sans Mono',consolas,'Courier New',monospace\">┏━━━━━━━━━━━━━━━━━━━━━━━━━━━┳━━━━━━━━━━━━━━━━━━━━━━━━┳━━━━━━━━━━━━━━━━┳━━━━━━━━━━━━━━━━━━━━━━━━┓\n",
              "┃<span style=\"font-weight: bold\"> Layer (type)              </span>┃<span style=\"font-weight: bold\"> Output Shape           </span>┃<span style=\"font-weight: bold\">        Param # </span>┃<span style=\"font-weight: bold\"> Connected to           </span>┃\n",
              "┡━━━━━━━━━━━━━━━━━━━━━━━━━━━╇━━━━━━━━━━━━━━━━━━━━━━━━╇━━━━━━━━━━━━━━━━╇━━━━━━━━━━━━━━━━━━━━━━━━┩\n",
              "│ image_input (<span style=\"color: #0087ff; text-decoration-color: #0087ff\">InputLayer</span>)  │ (<span style=\"color: #00d7ff; text-decoration-color: #00d7ff\">None</span>, <span style=\"color: #00af00; text-decoration-color: #00af00\">19</span>, <span style=\"color: #00af00; text-decoration-color: #00af00\">768</span>)        │              <span style=\"color: #00af00; text-decoration-color: #00af00\">0</span> │ -                      │\n",
              "├───────────────────────────┼────────────────────────┼────────────────┼────────────────────────┤\n",
              "│ conv1d (<span style=\"color: #0087ff; text-decoration-color: #0087ff\">Conv1D</span>)           │ (<span style=\"color: #00d7ff; text-decoration-color: #00d7ff\">None</span>, <span style=\"color: #00af00; text-decoration-color: #00af00\">17</span>, <span style=\"color: #00af00; text-decoration-color: #00af00\">64</span>)         │        <span style=\"color: #00af00; text-decoration-color: #00af00\">147,520</span> │ image_input[<span style=\"color: #00af00; text-decoration-color: #00af00\">0</span>][<span style=\"color: #00af00; text-decoration-color: #00af00\">0</span>]      │\n",
              "├───────────────────────────┼────────────────────────┼────────────────┼────────────────────────┤\n",
              "│ eeg_input (<span style=\"color: #0087ff; text-decoration-color: #0087ff\">InputLayer</span>)    │ (<span style=\"color: #00d7ff; text-decoration-color: #00d7ff\">None</span>, <span style=\"color: #00af00; text-decoration-color: #00af00\">19</span>, <span style=\"color: #00af00; text-decoration-color: #00af00\">304</span>)        │              <span style=\"color: #00af00; text-decoration-color: #00af00\">0</span> │ -                      │\n",
              "├───────────────────────────┼────────────────────────┼────────────────┼────────────────────────┤\n",
              "│ clinical_input            │ (<span style=\"color: #00d7ff; text-decoration-color: #00d7ff\">None</span>, <span style=\"color: #00af00; text-decoration-color: #00af00\">3</span>)              │              <span style=\"color: #00af00; text-decoration-color: #00af00\">0</span> │ -                      │\n",
              "│ (<span style=\"color: #0087ff; text-decoration-color: #0087ff\">InputLayer</span>)              │                        │                │                        │\n",
              "├───────────────────────────┼────────────────────────┼────────────────┼────────────────────────┤\n",
              "│ max_pooling1d             │ (<span style=\"color: #00d7ff; text-decoration-color: #00d7ff\">None</span>, <span style=\"color: #00af00; text-decoration-color: #00af00\">8</span>, <span style=\"color: #00af00; text-decoration-color: #00af00\">64</span>)          │              <span style=\"color: #00af00; text-decoration-color: #00af00\">0</span> │ conv1d[<span style=\"color: #00af00; text-decoration-color: #00af00\">0</span>][<span style=\"color: #00af00; text-decoration-color: #00af00\">0</span>]           │\n",
              "│ (<span style=\"color: #0087ff; text-decoration-color: #0087ff\">MaxPooling1D</span>)            │                        │                │                        │\n",
              "├───────────────────────────┼────────────────────────┼────────────────┼────────────────────────┤\n",
              "│ lstm (<span style=\"color: #0087ff; text-decoration-color: #0087ff\">LSTM</span>)               │ (<span style=\"color: #00d7ff; text-decoration-color: #00d7ff\">None</span>, <span style=\"color: #00af00; text-decoration-color: #00af00\">32</span>)             │         <span style=\"color: #00af00; text-decoration-color: #00af00\">43,136</span> │ eeg_input[<span style=\"color: #00af00; text-decoration-color: #00af00\">0</span>][<span style=\"color: #00af00; text-decoration-color: #00af00\">0</span>]        │\n",
              "├───────────────────────────┼────────────────────────┼────────────────┼────────────────────────┤\n",
              "│ dense (<span style=\"color: #0087ff; text-decoration-color: #0087ff\">Dense</span>)             │ (<span style=\"color: #00d7ff; text-decoration-color: #00d7ff\">None</span>, <span style=\"color: #00af00; text-decoration-color: #00af00\">16</span>)             │             <span style=\"color: #00af00; text-decoration-color: #00af00\">64</span> │ clinical_input[<span style=\"color: #00af00; text-decoration-color: #00af00\">0</span>][<span style=\"color: #00af00; text-decoration-color: #00af00\">0</span>]   │\n",
              "├───────────────────────────┼────────────────────────┼────────────────┼────────────────────────┤\n",
              "│ flatten (<span style=\"color: #0087ff; text-decoration-color: #0087ff\">Flatten</span>)         │ (<span style=\"color: #00d7ff; text-decoration-color: #00d7ff\">None</span>, <span style=\"color: #00af00; text-decoration-color: #00af00\">512</span>)            │              <span style=\"color: #00af00; text-decoration-color: #00af00\">0</span> │ max_pooling1d[<span style=\"color: #00af00; text-decoration-color: #00af00\">0</span>][<span style=\"color: #00af00; text-decoration-color: #00af00\">0</span>]    │\n",
              "├───────────────────────────┼────────────────────────┼────────────────┼────────────────────────┤\n",
              "│ dropout (<span style=\"color: #0087ff; text-decoration-color: #0087ff\">Dropout</span>)         │ (<span style=\"color: #00d7ff; text-decoration-color: #00d7ff\">None</span>, <span style=\"color: #00af00; text-decoration-color: #00af00\">32</span>)             │              <span style=\"color: #00af00; text-decoration-color: #00af00\">0</span> │ lstm[<span style=\"color: #00af00; text-decoration-color: #00af00\">0</span>][<span style=\"color: #00af00; text-decoration-color: #00af00\">0</span>]             │\n",
              "├───────────────────────────┼────────────────────────┼────────────────┼────────────────────────┤\n",
              "│ dropout_1 (<span style=\"color: #0087ff; text-decoration-color: #0087ff\">Dropout</span>)       │ (<span style=\"color: #00d7ff; text-decoration-color: #00d7ff\">None</span>, <span style=\"color: #00af00; text-decoration-color: #00af00\">16</span>)             │              <span style=\"color: #00af00; text-decoration-color: #00af00\">0</span> │ dense[<span style=\"color: #00af00; text-decoration-color: #00af00\">0</span>][<span style=\"color: #00af00; text-decoration-color: #00af00\">0</span>]            │\n",
              "├───────────────────────────┼────────────────────────┼────────────────┼────────────────────────┤\n",
              "│ dropout_2 (<span style=\"color: #0087ff; text-decoration-color: #0087ff\">Dropout</span>)       │ (<span style=\"color: #00d7ff; text-decoration-color: #00d7ff\">None</span>, <span style=\"color: #00af00; text-decoration-color: #00af00\">512</span>)            │              <span style=\"color: #00af00; text-decoration-color: #00af00\">0</span> │ flatten[<span style=\"color: #00af00; text-decoration-color: #00af00\">0</span>][<span style=\"color: #00af00; text-decoration-color: #00af00\">0</span>]          │\n",
              "├───────────────────────────┼────────────────────────┼────────────────┼────────────────────────┤\n",
              "│ concatenate (<span style=\"color: #0087ff; text-decoration-color: #0087ff\">Concatenate</span>) │ (<span style=\"color: #00d7ff; text-decoration-color: #00d7ff\">None</span>, <span style=\"color: #00af00; text-decoration-color: #00af00\">560</span>)            │              <span style=\"color: #00af00; text-decoration-color: #00af00\">0</span> │ dropout[<span style=\"color: #00af00; text-decoration-color: #00af00\">0</span>][<span style=\"color: #00af00; text-decoration-color: #00af00\">0</span>],         │\n",
              "│                           │                        │                │ dropout_1[<span style=\"color: #00af00; text-decoration-color: #00af00\">0</span>][<span style=\"color: #00af00; text-decoration-color: #00af00\">0</span>],       │\n",
              "│                           │                        │                │ dropout_2[<span style=\"color: #00af00; text-decoration-color: #00af00\">0</span>][<span style=\"color: #00af00; text-decoration-color: #00af00\">0</span>]        │\n",
              "├───────────────────────────┼────────────────────────┼────────────────┼────────────────────────┤\n",
              "│ dense_1 (<span style=\"color: #0087ff; text-decoration-color: #0087ff\">Dense</span>)           │ (<span style=\"color: #00d7ff; text-decoration-color: #00d7ff\">None</span>, <span style=\"color: #00af00; text-decoration-color: #00af00\">32</span>)             │         <span style=\"color: #00af00; text-decoration-color: #00af00\">17,952</span> │ concatenate[<span style=\"color: #00af00; text-decoration-color: #00af00\">0</span>][<span style=\"color: #00af00; text-decoration-color: #00af00\">0</span>]      │\n",
              "├───────────────────────────┼────────────────────────┼────────────────┼────────────────────────┤\n",
              "│ dropout_3 (<span style=\"color: #0087ff; text-decoration-color: #0087ff\">Dropout</span>)       │ (<span style=\"color: #00d7ff; text-decoration-color: #00d7ff\">None</span>, <span style=\"color: #00af00; text-decoration-color: #00af00\">32</span>)             │              <span style=\"color: #00af00; text-decoration-color: #00af00\">0</span> │ dense_1[<span style=\"color: #00af00; text-decoration-color: #00af00\">0</span>][<span style=\"color: #00af00; text-decoration-color: #00af00\">0</span>]          │\n",
              "├───────────────────────────┼────────────────────────┼────────────────┼────────────────────────┤\n",
              "│ dense_2 (<span style=\"color: #0087ff; text-decoration-color: #0087ff\">Dense</span>)           │ (<span style=\"color: #00d7ff; text-decoration-color: #00d7ff\">None</span>, <span style=\"color: #00af00; text-decoration-color: #00af00\">3</span>)              │             <span style=\"color: #00af00; text-decoration-color: #00af00\">99</span> │ dropout_3[<span style=\"color: #00af00; text-decoration-color: #00af00\">0</span>][<span style=\"color: #00af00; text-decoration-color: #00af00\">0</span>]        │\n",
              "└───────────────────────────┴────────────────────────┴────────────────┴────────────────────────┘\n",
              "</pre>\n"
            ]
          },
          "metadata": {}
        },
        {
          "output_type": "display_data",
          "data": {
            "text/plain": [
              "\u001b[1m Total params: \u001b[0m\u001b[38;5;34m208,771\u001b[0m (815.51 KB)\n"
            ],
            "text/html": [
              "<pre style=\"white-space:pre;overflow-x:auto;line-height:normal;font-family:Menlo,'DejaVu Sans Mono',consolas,'Courier New',monospace\"><span style=\"font-weight: bold\"> Total params: </span><span style=\"color: #00af00; text-decoration-color: #00af00\">208,771</span> (815.51 KB)\n",
              "</pre>\n"
            ]
          },
          "metadata": {}
        },
        {
          "output_type": "display_data",
          "data": {
            "text/plain": [
              "\u001b[1m Trainable params: \u001b[0m\u001b[38;5;34m208,771\u001b[0m (815.51 KB)\n"
            ],
            "text/html": [
              "<pre style=\"white-space:pre;overflow-x:auto;line-height:normal;font-family:Menlo,'DejaVu Sans Mono',consolas,'Courier New',monospace\"><span style=\"font-weight: bold\"> Trainable params: </span><span style=\"color: #00af00; text-decoration-color: #00af00\">208,771</span> (815.51 KB)\n",
              "</pre>\n"
            ]
          },
          "metadata": {}
        },
        {
          "output_type": "display_data",
          "data": {
            "text/plain": [
              "\u001b[1m Non-trainable params: \u001b[0m\u001b[38;5;34m0\u001b[0m (0.00 B)\n"
            ],
            "text/html": [
              "<pre style=\"white-space:pre;overflow-x:auto;line-height:normal;font-family:Menlo,'DejaVu Sans Mono',consolas,'Courier New',monospace\"><span style=\"font-weight: bold\"> Non-trainable params: </span><span style=\"color: #00af00; text-decoration-color: #00af00\">0</span> (0.00 B)\n",
              "</pre>\n"
            ]
          },
          "metadata": {}
        }
      ]
    },
    {
      "cell_type": "markdown",
      "source": [
        "### Train-Test Split"
      ],
      "metadata": {
        "id": "M-17Dnxw8-v_"
      }
    },
    {
      "cell_type": "code",
      "source": [
        "from sklearn.model_selection import train_test_split\n",
        "eeg_train_val, eeg_test, clinical_train_val, clinical_test, image_train_val, image_test, y_train_val, y_test = train_test_split(\n",
        "    eeg_signal_standardized, eeg_clinical_standardized, eeg_images_standardized, labels, test_size=0.1, random_state=42\n",
        ")\n",
        "\n",
        "eeg_train, eeg_val, clinical_train, clinical_val, image_train, image_val, y_train, y_val = train_test_split(\n",
        "    eeg_train_val, clinical_train_val, image_train_val, y_train_val, test_size=0.1, random_state=42\n",
        ")\n"
      ],
      "metadata": {
        "id": "3tzmWOu180pu"
      },
      "execution_count": 10,
      "outputs": []
    },
    {
      "cell_type": "code",
      "source": [
        "from tensorflow.keras.callbacks import EarlyStopping, ModelCheckpoint\n",
        "\n",
        "early_stopping = EarlyStopping(monitor='val_loss', patience=5, restore_best_weights=True)\n",
        "checkpoint = ModelCheckpoint('best_model.keras', monitor='val_loss', save_best_only=True)"
      ],
      "metadata": {
        "id": "oNgV3aM6n6A4"
      },
      "execution_count": 12,
      "outputs": []
    },
    {
      "cell_type": "code",
      "source": [
        "# 5. Train the Model\n",
        "history = model.fit(\n",
        "    [eeg_train, clinical_train, image_train],  # Input features\n",
        "    y_train,  # Labels\n",
        "    validation_data=([eeg_val, clinical_val, image_val], y_val),  # Validation data\n",
        "    epochs=20,  # You can adjust the number of epochs\n",
        "    batch_size=16,  # Batch size\n",
        "    callbacks=[early_stopping, checkpoint],  # Callbacks for early stopping and saving the best model\n",
        ")"
      ],
      "metadata": {
        "colab": {
          "base_uri": "https://localhost:8080/"
        },
        "id": "kzn7OGexnzNv",
        "outputId": "13669e37-e5d1-437c-8ac7-9078ee2d5ada"
      },
      "execution_count": 13,
      "outputs": [
        {
          "output_type": "stream",
          "name": "stdout",
          "text": [
            "Epoch 1/20\n",
            "\u001b[1m5/5\u001b[0m \u001b[32m━━━━━━━━━━━━━━━━━━━━\u001b[0m\u001b[37m\u001b[0m \u001b[1m6s\u001b[0m 128ms/step - accuracy: 0.2540 - loss: 2.7405 - val_accuracy: 0.2500 - val_loss: 2.4063\n",
            "Epoch 2/20\n",
            "\u001b[1m5/5\u001b[0m \u001b[32m━━━━━━━━━━━━━━━━━━━━\u001b[0m\u001b[37m\u001b[0m \u001b[1m0s\u001b[0m 23ms/step - accuracy: 0.6524 - loss: 1.3837 - val_accuracy: 0.1250 - val_loss: 2.6538\n",
            "Epoch 3/20\n",
            "\u001b[1m5/5\u001b[0m \u001b[32m━━━━━━━━━━━━━━━━━━━━\u001b[0m\u001b[37m\u001b[0m \u001b[1m0s\u001b[0m 27ms/step - accuracy: 0.7954 - loss: 1.0565 - val_accuracy: 0.1250 - val_loss: 2.6424\n",
            "Epoch 4/20\n",
            "\u001b[1m5/5\u001b[0m \u001b[32m━━━━━━━━━━━━━━━━━━━━\u001b[0m\u001b[37m\u001b[0m \u001b[1m0s\u001b[0m 25ms/step - accuracy: 0.8788 - loss: 0.8997 - val_accuracy: 0.1250 - val_loss: 2.4685\n",
            "Epoch 5/20\n",
            "\u001b[1m5/5\u001b[0m \u001b[32m━━━━━━━━━━━━━━━━━━━━\u001b[0m\u001b[37m\u001b[0m \u001b[1m0s\u001b[0m 29ms/step - accuracy: 0.9081 - loss: 0.7997 - val_accuracy: 0.1250 - val_loss: 2.6231\n",
            "Epoch 6/20\n",
            "\u001b[1m5/5\u001b[0m \u001b[32m━━━━━━━━━━━━━━━━━━━━\u001b[0m\u001b[37m\u001b[0m \u001b[1m0s\u001b[0m 24ms/step - accuracy: 0.8791 - loss: 0.8288 - val_accuracy: 0.1250 - val_loss: 2.8429\n"
          ]
        }
      ]
    },
    {
      "cell_type": "code",
      "source": [
        "# 6. Evaluate the Model on Test Data\n",
        "test_loss, test_accuracy = model.evaluate([eeg_test, clinical_test, image_test], y_test)\n",
        "print(f\"Test Loss: {test_loss:.4f}, Test Accuracy: {test_accuracy:.4f}\")"
      ],
      "metadata": {
        "colab": {
          "base_uri": "https://localhost:8080/"
        },
        "id": "Tu1pojkKnycs",
        "outputId": "92ef0fec-4d1d-41bb-9c5a-490530d39d89"
      },
      "execution_count": 14,
      "outputs": [
        {
          "output_type": "stream",
          "name": "stdout",
          "text": [
            "\u001b[1m1/1\u001b[0m \u001b[32m━━━━━━━━━━━━━━━━━━━━\u001b[0m\u001b[37m\u001b[0m \u001b[1m0s\u001b[0m 30ms/step - accuracy: 0.4444 - loss: 1.8444\n",
            "Test Loss: 1.8444, Test Accuracy: 0.4444\n"
          ]
        }
      ]
    },
    {
      "cell_type": "code",
      "source": [
        "import matplotlib.pyplot as plt\n",
        "\n",
        "plt.plot(history.history['accuracy'], label='Train Accuracy')\n",
        "plt.plot(history.history['val_accuracy'], label='Val Accuracy')\n",
        "plt.plot(history.history['loss'], label='Train Loss')\n",
        "plt.plot(history.history['val_loss'], label='Val Loss')\n",
        "plt.legend()\n",
        "plt.show()\n"
      ],
      "metadata": {
        "colab": {
          "base_uri": "https://localhost:8080/",
          "height": 430
        },
        "id": "FaViyfXUBsIJ",
        "outputId": "a26ad691-2001-464c-86eb-691f6d49a0e7"
      },
      "execution_count": 13,
      "outputs": [
        {
          "output_type": "display_data",
          "data": {
            "text/plain": [
              "<Figure size 640x480 with 1 Axes>"
            ],
            "image/png": "[encoded data removed]"
          },
          "metadata": {}
        }
      ]
    },
    {
      "cell_type": "code",
      "source": [
        "from google.colab import drive\n",
        "drive.mount('/content/drive')"
      ],
      "metadata": {
        "colab": {
          "base_uri": "https://localhost:8080/"
        },
        "id": "xtjMmfuhjv8Q",
        "outputId": "b2614a99-8d9c-41ec-c642-e5c9d717a917"
      },
      "execution_count": 14,
      "outputs": [
        {
          "output_type": "stream",
          "name": "stdout",
          "text": [
            "Drive already mounted at /content/drive; to attempt to forcibly remount, call drive.mount(\"/content/drive\", force_remount=True).\n"
          ]
        }
      ]
    },
    {
      "cell_type": "code",
      "source": [],
      "metadata": {
        "id": "xhY6WRUTogHg"
      },
      "execution_count": null,
      "outputs": []
    },
    {
      "cell_type": "markdown",
      "source": [
        "## 5. Hyperparameter tuning"
      ],
      "metadata": {
        "id": "h1_067ji2Wid"
      }
    },
    {
      "cell_type": "code",
      "source": [
        "pip install keras-tuner --upgrade\n"
      ],
      "metadata": {
        "colab": {
          "base_uri": "https://localhost:8080/"
        },
        "id": "AoE1r5aVXr5B",
        "outputId": "9c03f864-6618-4724-bda7-762c05d84f06"
      },
      "execution_count": 15,
      "outputs": [
        {
          "output_type": "stream",
          "name": "stdout",
          "text": [
            "Collecting keras-tuner\n",
            "  Downloading keras_tuner-1.4.7-py3-none-any.whl.metadata (5.4 kB)\n",
            "Requirement already satisfied: keras in /usr/local/lib/python3.10/dist-packages (from keras-tuner) (3.5.0)\n",
            "Requirement already satisfied: packaging in /usr/local/lib/python3.10/dist-packages (from keras-tuner) (24.2)\n",
            "Requirement already satisfied: requests in /usr/local/lib/python3.10/dist-packages (from keras-tuner) (2.32.3)\n",
            "Collecting kt-legacy (from keras-tuner)\n",
            "  Downloading kt_legacy-1.0.5-py3-none-any.whl.metadata (221 bytes)\n",
            "Requirement already satisfied: absl-py in /usr/local/lib/python3.10/dist-packages (from keras->keras-tuner) (1.4.0)\n",
            "Requirement already satisfied: numpy in /usr/local/lib/python3.10/dist-packages (from keras->keras-tuner) (1.26.4)\n",
            "Requirement already satisfied: rich in /usr/local/lib/python3.10/dist-packages (from keras->keras-tuner) (13.9.4)\n",
            "Requirement already satisfied: namex in /usr/local/lib/python3.10/dist-packages (from keras->keras-tuner) (0.0.8)\n",
            "Requirement already satisfied: h5py in /usr/local/lib/python3.10/dist-packages (from keras->keras-tuner) (3.12.1)\n",
            "Requirement already satisfied: optree in /usr/local/lib/python3.10/dist-packages (from keras->keras-tuner) (0.13.1)\n",
            "Requirement already satisfied: ml-dtypes in /usr/local/lib/python3.10/dist-packages (from keras->keras-tuner) (0.4.1)\n",
            "Requirement already satisfied: charset-normalizer<4,>=2 in /usr/local/lib/python3.10/dist-packages (from requests->keras-tuner) (3.4.0)\n",
            "Requirement already satisfied: idna<4,>=2.5 in /usr/local/lib/python3.10/dist-packages (from requests->keras-tuner) (3.10)\n",
            "Requirement already satisfied: urllib3<3,>=1.21.1 in /usr/local/lib/python3.10/dist-packages (from requests->keras-tuner) (2.2.3)\n",
            "Requirement already satisfied: certifi>=2017.4.17 in /usr/local/lib/python3.10/dist-packages (from requests->keras-tuner) (2024.8.30)\n",
            "Requirement already satisfied: typing-extensions>=4.5.0 in /usr/local/lib/python3.10/dist-packages (from optree->keras->keras-tuner) (4.12.2)\n",
            "Requirement already satisfied: markdown-it-py>=2.2.0 in /usr/local/lib/python3.10/dist-packages (from rich->keras->keras-tuner) (3.0.0)\n",
            "Requirement already satisfied: pygments<3.0.0,>=2.13.0 in /usr/local/lib/python3.10/dist-packages (from rich->keras->keras-tuner) (2.18.0)\n",
            "Requirement already satisfied: mdurl~=0.1 in /usr/local/lib/python3.10/dist-packages (from markdown-it-py>=2.2.0->rich->keras->keras-tuner) (0.1.2)\n",
            "Downloading keras_tuner-1.4.7-py3-none-any.whl (129 kB)\n",
            "\u001b[2K   \u001b[90m━━━━━━━━━━━━━━━━━━━━━━━━━━━━━━━━━━━━━━━━\u001b[0m \u001b[32m129.1/129.1 kB\u001b[0m \u001b[31m5.8 MB/s\u001b[0m eta \u001b[36m0:00:00\u001b[0m\n",
            "\u001b[?25hDownloading kt_legacy-1.0.5-py3-none-any.whl (9.6 kB)\n",
            "Installing collected packages: kt-legacy, keras-tuner\n",
            "Successfully installed keras-tuner-1.4.7 kt-legacy-1.0.5\n"
          ]
        }
      ]
    },
    {
      "cell_type": "code",
      "source": [
        "import kerastuner as kt\n",
        "\n",
        "def build_model(hp):\n",
        "    eeg_input = Input(shape=(19, 304), name='eeg_input')\n",
        "    x1 = LSTM(hp.Int('lstm_units', min_value=64, max_value=256, step=64), return_sequences=True)(eeg_input)\n",
        "    x1 = LSTM(hp.Int('lstm_units', min_value=64, max_value=256, step=64))(x1)\n",
        "    x1 = Dropout(hp.Float('dropout_rate', min_value=0.2, max_value=0.5, step=0.1))(x1)\n",
        "\n",
        "    clinical_input = Input(shape=(3,), name='clinical_input')\n",
        "    x2 = Dense(32, activation='relu')(clinical_input)\n",
        "    x2 = BatchNormalization()(x2)\n",
        "    x2 = Dropout(hp.Float('dropout_rate', min_value=0.2, max_value=0.5, step=0.1))(x2)\n",
        "\n",
        "    image_input = Input(shape=(19, 768), name='image_input')\n",
        "    x3 = Conv1D(hp.Int('filters', min_value=32, max_value=128, step=32), kernel_size=hp.Int('kernel_size', 3, 7, 1), activation='relu')(image_input)\n",
        "    x3 = MaxPooling1D(pool_size=hp.Int('pool_size', 2, 4, 1))(x3)\n",
        "    x3 = Flatten()(x3)\n",
        "    x3 = Dropout(hp.Float('dropout_rate', min_value=0.2, max_value=0.5, step=0.1))(x3)\n",
        "\n",
        "    combined = Concatenate()([x1, x2, x3])\n",
        "\n",
        "    x = Dense(hp.Int('dense_units', min_value=64, max_value=256, step=64), activation='relu')(combined)\n",
        "    x = Dropout(hp.Float('dropout_rate', min_value=0.2, max_value=0.5, step=0.1))(x)\n",
        "    output = Dense(3, activation='softmax')(x)\n",
        "\n",
        "    model = Model(inputs=[eeg_input, clinical_input, image_input], outputs=output)\n",
        "\n",
        "    model.compile(\n",
        "        optimizer=Adam(learning_rate=hp.Float('learning_rate', min_value=1e-5, max_value=1e-2, sampling='LOG')),\n",
        "        loss='categorical_crossentropy',\n",
        "        metrics=['accuracy']\n",
        "    )\n",
        "    return model\n",
        "\n",
        "# Hyperparameter search\n",
        "tuner = kt.Hyperband(build_model, objective='val_accuracy', max_epochs=10, hyperband_iterations=2)\n",
        "tuner.search(x=[eeg_train, clinical_train, image_train], y=y_train, validation_data=([eeg_val, clinical_val, image_val], y_val))\n",
        "best_model = tuner.get_best_models(1)[0]\n",
        "best_model.summary()\n"
      ],
      "metadata": {
        "colab": {
          "base_uri": "https://localhost:8080/",
          "height": 391
        },
        "id": "bsCyrzX7EtaT",
        "outputId": "1fdacbe9-6d7c-4487-eaa4-a5d049ea6b4f"
      },
      "execution_count": 16,
      "outputs": [
        {
          "output_type": "stream",
          "name": "stderr",
          "text": [
            "<ipython-input-16-f0305f94b517>:1: DeprecationWarning: `import kerastuner` is deprecated, please use `import keras_tuner`.\n",
            "  import kerastuner as kt\n"
          ]
        },
        {
          "output_type": "error",
          "ename": "NameError",
          "evalue": "name 'BatchNormalization' is not defined",
          "traceback": [
            "\u001b[0;31m---------------------------------------------------------------------------\u001b[0m",
            "\u001b[0;31mNameError\u001b[0m                                 Traceback (most recent call last)",
            "\u001b[0;32m<ipython-input-16-f0305f94b517>\u001b[0m in \u001b[0;36m<cell line: 36>\u001b[0;34m()\u001b[0m\n\u001b[1;32m     34\u001b[0m \u001b[0;34m\u001b[0m\u001b[0m\n\u001b[1;32m     35\u001b[0m \u001b[0;31m# Hyperparameter search\u001b[0m\u001b[0;34m\u001b[0m\u001b[0;34m\u001b[0m\u001b[0m\n\u001b[0;32m---> 36\u001b[0;31m \u001b[0mtuner\u001b[0m \u001b[0;34m=\u001b[0m \u001b[0mkt\u001b[0m\u001b[0;34m.\u001b[0m\u001b[0mHyperband\u001b[0m\u001b[0;34m(\u001b[0m\u001b[0mbuild_model\u001b[0m\u001b[0;34m,\u001b[0m \u001b[0mobjective\u001b[0m\u001b[0;34m=\u001b[0m\u001b[0;34m'val_accuracy'\u001b[0m\u001b[0;34m,\u001b[0m \u001b[0mmax_epochs\u001b[0m\u001b[0;34m=\u001b[0m\u001b[0;36m10\u001b[0m\u001b[0;34m,\u001b[0m \u001b[0mhyperband_iterations\u001b[0m\u001b[0;34m=\u001b[0m\u001b[0;36m2\u001b[0m\u001b[0;34m)\u001b[0m\u001b[0;34m\u001b[0m\u001b[0;34m\u001b[0m\u001b[0m\n\u001b[0m\u001b[1;32m     37\u001b[0m \u001b[0mtuner\u001b[0m\u001b[0;34m.\u001b[0m\u001b[0msearch\u001b[0m\u001b[0;34m(\u001b[0m\u001b[0mx\u001b[0m\u001b[0;34m=\u001b[0m\u001b[0;34m[\u001b[0m\u001b[0meeg_train\u001b[0m\u001b[0;34m,\u001b[0m \u001b[0mclinical_train\u001b[0m\u001b[0;34m,\u001b[0m \u001b[0mimage_train\u001b[0m\u001b[0;34m]\u001b[0m\u001b[0;34m,\u001b[0m \u001b[0my\u001b[0m\u001b[0;34m=\u001b[0m\u001b[0my_train\u001b[0m\u001b[0;34m,\u001b[0m \u001b[0mvalidation_data\u001b[0m\u001b[0;34m=\u001b[0m\u001b[0;34m(\u001b[0m\u001b[0;34m[\u001b[0m\u001b[0meeg_val\u001b[0m\u001b[0;34m,\u001b[0m \u001b[0mclinical_val\u001b[0m\u001b[0;34m,\u001b[0m \u001b[0mimage_val\u001b[0m\u001b[0;34m]\u001b[0m\u001b[0;34m,\u001b[0m \u001b[0my_val\u001b[0m\u001b[0;34m)\u001b[0m\u001b[0;34m)\u001b[0m\u001b[0;34m\u001b[0m\u001b[0;34m\u001b[0m\u001b[0m\n\u001b[1;32m     38\u001b[0m \u001b[0mbest_model\u001b[0m \u001b[0;34m=\u001b[0m \u001b[0mtuner\u001b[0m\u001b[0;34m.\u001b[0m\u001b[0mget_best_models\u001b[0m\u001b[0;34m(\u001b[0m\u001b[0;36m1\u001b[0m\u001b[0;34m)\u001b[0m\u001b[0;34m[\u001b[0m\u001b[0;36m0\u001b[0m\u001b[0;34m]\u001b[0m\u001b[0;34m\u001b[0m\u001b[0;34m\u001b[0m\u001b[0m\n",
            "\u001b[0;32m/usr/local/lib/python3.10/dist-packages/keras_tuner/src/tuners/hyperband.py\u001b[0m in \u001b[0;36m__init__\u001b[0;34m(self, hypermodel, objective, max_epochs, factor, hyperband_iterations, seed, hyperparameters, tune_new_entries, allow_new_entries, max_retries_per_trial, max_consecutive_failed_trials, **kwargs)\u001b[0m\n\u001b[1;32m    418\u001b[0m             \u001b[0mmax_consecutive_failed_trials\u001b[0m\u001b[0;34m=\u001b[0m\u001b[0mmax_consecutive_failed_trials\u001b[0m\u001b[0;34m,\u001b[0m\u001b[0;34m\u001b[0m\u001b[0;34m\u001b[0m\u001b[0m\n\u001b[1;32m    419\u001b[0m         )\n\u001b[0;32m--> 420\u001b[0;31m         \u001b[0msuper\u001b[0m\u001b[0;34m(\u001b[0m\u001b[0;34m)\u001b[0m\u001b[0;34m.\u001b[0m\u001b[0m__init__\u001b[0m\u001b[0;34m(\u001b[0m\u001b[0moracle\u001b[0m\u001b[0;34m=\u001b[0m\u001b[0moracle\u001b[0m\u001b[0;34m,\u001b[0m \u001b[0mhypermodel\u001b[0m\u001b[0;34m=\u001b[0m\u001b[0mhypermodel\u001b[0m\u001b[0;34m,\u001b[0m \u001b[0;34m**\u001b[0m\u001b[0mkwargs\u001b[0m\u001b[0;34m)\u001b[0m\u001b[0;34m\u001b[0m\u001b[0;34m\u001b[0m\u001b[0m\n\u001b[0m\u001b[1;32m    421\u001b[0m \u001b[0;34m\u001b[0m\u001b[0m\n\u001b[1;32m    422\u001b[0m     \u001b[0;32mdef\u001b[0m \u001b[0mrun_trial\u001b[0m\u001b[0;34m(\u001b[0m\u001b[0mself\u001b[0m\u001b[0;34m,\u001b[0m \u001b[0mtrial\u001b[0m\u001b[0;34m,\u001b[0m \u001b[0;34m*\u001b[0m\u001b[0mfit_args\u001b[0m\u001b[0;34m,\u001b[0m \u001b[0;34m**\u001b[0m\u001b[0mfit_kwargs\u001b[0m\u001b[0;34m)\u001b[0m\u001b[0;34m:\u001b[0m\u001b[0;34m\u001b[0m\u001b[0;34m\u001b[0m\u001b[0m\n",
            "\u001b[0;32m/usr/local/lib/python3.10/dist-packages/keras_tuner/src/engine/tuner.py\u001b[0m in \u001b[0;36m__init__\u001b[0;34m(self, oracle, hypermodel, max_model_size, optimizer, loss, metrics, distribution_strategy, directory, project_name, logger, tuner_id, overwrite, executions_per_trial, **kwargs)\u001b[0m\n\u001b[1;32m    120\u001b[0m             )\n\u001b[1;32m    121\u001b[0m \u001b[0;34m\u001b[0m\u001b[0m\n\u001b[0;32m--> 122\u001b[0;31m         super().__init__(\n\u001b[0m\u001b[1;32m    123\u001b[0m             \u001b[0moracle\u001b[0m\u001b[0;34m=\u001b[0m\u001b[0moracle\u001b[0m\u001b[0;34m,\u001b[0m\u001b[0;34m\u001b[0m\u001b[0;34m\u001b[0m\u001b[0m\n\u001b[1;32m    124\u001b[0m             \u001b[0mhypermodel\u001b[0m\u001b[0;34m=\u001b[0m\u001b[0mhypermodel\u001b[0m\u001b[0;34m,\u001b[0m\u001b[0;34m\u001b[0m\u001b[0;34m\u001b[0m\u001b[0m\n",
            "\u001b[0;32m/usr/local/lib/python3.10/dist-packages/keras_tuner/src/engine/base_tuner.py\u001b[0m in \u001b[0;36m__init__\u001b[0;34m(self, oracle, hypermodel, directory, project_name, overwrite, **kwargs)\u001b[0m\n\u001b[1;32m    130\u001b[0m         \u001b[0;32melse\u001b[0m\u001b[0;34m:\u001b[0m\u001b[0;34m\u001b[0m\u001b[0;34m\u001b[0m\u001b[0m\n\u001b[1;32m    131\u001b[0m             \u001b[0;31m# Only populate initial space if not reloading.\u001b[0m\u001b[0;34m\u001b[0m\u001b[0;34m\u001b[0m\u001b[0m\n\u001b[0;32m--> 132\u001b[0;31m             \u001b[0mself\u001b[0m\u001b[0;34m.\u001b[0m\u001b[0m_populate_initial_space\u001b[0m\u001b[0;34m(\u001b[0m\u001b[0;34m)\u001b[0m\u001b[0;34m\u001b[0m\u001b[0;34m\u001b[0m\u001b[0m\n\u001b[0m\u001b[1;32m    133\u001b[0m \u001b[0;34m\u001b[0m\u001b[0m\n\u001b[1;32m    134\u001b[0m         \u001b[0;31m# Run in distributed mode.\u001b[0m\u001b[0;34m\u001b[0m\u001b[0;34m\u001b[0m\u001b[0m\n",
            "\u001b[0;32m/usr/local/lib/python3.10/dist-packages/keras_tuner/src/engine/base_tuner.py\u001b[0m in \u001b[0;36m_populate_initial_space\u001b[0;34m(self)\u001b[0m\n\u001b[1;32m    190\u001b[0m         \u001b[0mself\u001b[0m\u001b[0;34m.\u001b[0m\u001b[0mhypermodel\u001b[0m\u001b[0;34m.\u001b[0m\u001b[0mdeclare_hyperparameters\u001b[0m\u001b[0;34m(\u001b[0m\u001b[0mhp\u001b[0m\u001b[0;34m)\u001b[0m\u001b[0;34m\u001b[0m\u001b[0;34m\u001b[0m\u001b[0m\n\u001b[1;32m    191\u001b[0m         \u001b[0mself\u001b[0m\u001b[0;34m.\u001b[0m\u001b[0moracle\u001b[0m\u001b[0;34m.\u001b[0m\u001b[0mupdate_space\u001b[0m\u001b[0;34m(\u001b[0m\u001b[0mhp\u001b[0m\u001b[0;34m)\u001b[0m\u001b[0;34m\u001b[0m\u001b[0;34m\u001b[0m\u001b[0m\n\u001b[0;32m--> 192\u001b[0;31m         \u001b[0mself\u001b[0m\u001b[0;34m.\u001b[0m\u001b[0m_activate_all_conditions\u001b[0m\u001b[0;34m(\u001b[0m\u001b[0;34m)\u001b[0m\u001b[0;34m\u001b[0m\u001b[0;34m\u001b[0m\u001b[0m\n\u001b[0m\u001b[1;32m    193\u001b[0m \u001b[0;34m\u001b[0m\u001b[0m\n\u001b[1;32m    194\u001b[0m     \u001b[0;32mdef\u001b[0m \u001b[0msearch\u001b[0m\u001b[0;34m(\u001b[0m\u001b[0mself\u001b[0m\u001b[0;34m,\u001b[0m \u001b[0;34m*\u001b[0m\u001b[0mfit_args\u001b[0m\u001b[0;34m,\u001b[0m \u001b[0;34m**\u001b[0m\u001b[0mfit_kwargs\u001b[0m\u001b[0;34m)\u001b[0m\u001b[0;34m:\u001b[0m\u001b[0;34m\u001b[0m\u001b[0;34m\u001b[0m\u001b[0m\n",
            "\u001b[0;32m/usr/local/lib/python3.10/dist-packages/keras_tuner/src/engine/base_tuner.py\u001b[0m in \u001b[0;36m_activate_all_conditions\u001b[0;34m(self)\u001b[0m\n\u001b[1;32m    147\u001b[0m         \u001b[0mhp\u001b[0m \u001b[0;34m=\u001b[0m \u001b[0mself\u001b[0m\u001b[0;34m.\u001b[0m\u001b[0moracle\u001b[0m\u001b[0;34m.\u001b[0m\u001b[0mget_space\u001b[0m\u001b[0;34m(\u001b[0m\u001b[0;34m)\u001b[0m\u001b[0;34m\u001b[0m\u001b[0;34m\u001b[0m\u001b[0m\n\u001b[1;32m    148\u001b[0m         \u001b[0;32mwhile\u001b[0m \u001b[0;32mTrue\u001b[0m\u001b[0;34m:\u001b[0m\u001b[0;34m\u001b[0m\u001b[0;34m\u001b[0m\u001b[0m\n\u001b[0;32m--> 149\u001b[0;31m             \u001b[0mself\u001b[0m\u001b[0;34m.\u001b[0m\u001b[0mhypermodel\u001b[0m\u001b[0;34m.\u001b[0m\u001b[0mbuild\u001b[0m\u001b[0;34m(\u001b[0m\u001b[0mhp\u001b[0m\u001b[0;34m)\u001b[0m\u001b[0;34m\u001b[0m\u001b[0;34m\u001b[0m\u001b[0m\n\u001b[0m\u001b[1;32m    150\u001b[0m             \u001b[0mself\u001b[0m\u001b[0;34m.\u001b[0m\u001b[0moracle\u001b[0m\u001b[0;34m.\u001b[0m\u001b[0mupdate_space\u001b[0m\u001b[0;34m(\u001b[0m\u001b[0mhp\u001b[0m\u001b[0;34m)\u001b[0m\u001b[0;34m\u001b[0m\u001b[0;34m\u001b[0m\u001b[0m\n\u001b[1;32m    151\u001b[0m \u001b[0;34m\u001b[0m\u001b[0m\n",
            "\u001b[0;32m<ipython-input-16-f0305f94b517>\u001b[0m in \u001b[0;36mbuild_model\u001b[0;34m(hp)\u001b[0m\n\u001b[1;32m      9\u001b[0m     \u001b[0mclinical_input\u001b[0m \u001b[0;34m=\u001b[0m \u001b[0mInput\u001b[0m\u001b[0;34m(\u001b[0m\u001b[0mshape\u001b[0m\u001b[0;34m=\u001b[0m\u001b[0;34m(\u001b[0m\u001b[0;36m3\u001b[0m\u001b[0;34m,\u001b[0m\u001b[0;34m)\u001b[0m\u001b[0;34m,\u001b[0m \u001b[0mname\u001b[0m\u001b[0;34m=\u001b[0m\u001b[0;34m'clinical_input'\u001b[0m\u001b[0;34m)\u001b[0m\u001b[0;34m\u001b[0m\u001b[0;34m\u001b[0m\u001b[0m\n\u001b[1;32m     10\u001b[0m     \u001b[0mx2\u001b[0m \u001b[0;34m=\u001b[0m \u001b[0mDense\u001b[0m\u001b[0;34m(\u001b[0m\u001b[0;36m32\u001b[0m\u001b[0;34m,\u001b[0m \u001b[0mactivation\u001b[0m\u001b[0;34m=\u001b[0m\u001b[0;34m'relu'\u001b[0m\u001b[0;34m)\u001b[0m\u001b[0;34m(\u001b[0m\u001b[0mclinical_input\u001b[0m\u001b[0;34m)\u001b[0m\u001b[0;34m\u001b[0m\u001b[0;34m\u001b[0m\u001b[0m\n\u001b[0;32m---> 11\u001b[0;31m     \u001b[0mx2\u001b[0m \u001b[0;34m=\u001b[0m \u001b[0mBatchNormalization\u001b[0m\u001b[0;34m(\u001b[0m\u001b[0;34m)\u001b[0m\u001b[0;34m(\u001b[0m\u001b[0mx2\u001b[0m\u001b[0;34m)\u001b[0m\u001b[0;34m\u001b[0m\u001b[0;34m\u001b[0m\u001b[0m\n\u001b[0m\u001b[1;32m     12\u001b[0m     \u001b[0mx2\u001b[0m \u001b[0;34m=\u001b[0m \u001b[0mDropout\u001b[0m\u001b[0;34m(\u001b[0m\u001b[0mhp\u001b[0m\u001b[0;34m.\u001b[0m\u001b[0mFloat\u001b[0m\u001b[0;34m(\u001b[0m\u001b[0;34m'dropout_rate'\u001b[0m\u001b[0;34m,\u001b[0m \u001b[0mmin_value\u001b[0m\u001b[0;34m=\u001b[0m\u001b[0;36m0.2\u001b[0m\u001b[0;34m,\u001b[0m \u001b[0mmax_value\u001b[0m\u001b[0;34m=\u001b[0m\u001b[0;36m0.5\u001b[0m\u001b[0;34m,\u001b[0m \u001b[0mstep\u001b[0m\u001b[0;34m=\u001b[0m\u001b[0;36m0.1\u001b[0m\u001b[0;34m)\u001b[0m\u001b[0;34m)\u001b[0m\u001b[0;34m(\u001b[0m\u001b[0mx2\u001b[0m\u001b[0;34m)\u001b[0m\u001b[0;34m\u001b[0m\u001b[0;34m\u001b[0m\u001b[0m\n\u001b[1;32m     13\u001b[0m \u001b[0;34m\u001b[0m\u001b[0m\n",
            "\u001b[0;31mNameError\u001b[0m: name 'BatchNormalization' is not defined"
          ]
        }
      ]
    },
    {
      "cell_type": "code",
      "source": [
        "# Retrieve the best hyperparameters\n",
        "best_hps = tuner.get_best_hyperparameters(num_trials=1)[0]\n",
        "\n",
        "# Print the best hyperparameters\n",
        "print(\"Best Hyperparameters:\")\n",
        "print(best_hps.values)\n"
      ],
      "metadata": {
        "id": "EC_OKprYatVv"
      },
      "execution_count": null,
      "outputs": []
    },
    {
      "cell_type": "code",
      "source": [
        "from tensorflow.keras.models import Model\n",
        "from tensorflow.keras.layers import (\n",
        "    Input, LSTM, Dense, Dropout, Flatten, BatchNormalization,\n",
        "    Conv1D, MaxPooling1D, Concatenate\n",
        ")\n",
        "from tensorflow.keras.regularizers import l2\n",
        "from tensorflow.keras.callbacks import EarlyStopping\n",
        "from tensorflow.keras.optimizers import Adam\n",
        "\n",
        "# EEG Input\n",
        "eeg_input = Input(shape=(19, 304), name='eeg_input')\n",
        "x1 = LSTM(128, return_sequences=True)(eeg_input)\n",
        "x1 = LSTM(128, return_sequences=False)(x1)\n",
        "x1 = Dropout(0.5)(x1)  # Increased dropout to reduce overfitting\n",
        "\n",
        "# Clinical Input\n",
        "clinical_input = Input(shape=(3,), name='clinical_input')\n",
        "x2 = Dense(32, activation='relu', kernel_regularizer=l2(0.01))(clinical_input)  # Added L2 regularization\n",
        "x2 = BatchNormalization()(x2)\n",
        "x2 = Dropout(0.5)(x2)  # Increased dropout rate\n",
        "\n",
        "# Image Features Input\n",
        "image_input = Input(shape=(19, 768), name='image_input')\n",
        "x3 = Conv1D(96, kernel_size=3, activation='relu', kernel_regularizer=l2(0.01))(image_input)  # Added L2 regularization\n",
        "x3 = MaxPooling1D(pool_size=2)(x3)\n",
        "x3 = Flatten()(x3)\n",
        "x3 = Dropout(0.5)(x3)  # Increased dropout rate\n",
        "\n",
        "# Concatenate EEG, Clinical, and Image features\n",
        "combined = Concatenate()([x1, x2, x3])\n",
        "\n",
        "# Dense Layers after Concatenation\n",
        "x = Dense(192, activation='relu', kernel_regularizer=l2(0.01))(combined)  # Added L2 regularization\n",
        "x = Dropout(0.5)(x)  # Increased dropout rate\n",
        "output = Dense(3, activation='softmax')(x)\n",
        "\n",
        "# Define the model\n",
        "best_model = Model(inputs=[eeg_input, clinical_input, image_input], outputs=output)\n",
        "\n",
        "# Compile the model with the best learning rate\n",
        "best_model.compile(\n",
        "    optimizer=Adam(learning_rate=0.000351),\n",
        "    loss='categorical_crossentropy',\n",
        "    metrics=['accuracy']\n",
        ")\n",
        "\n",
        "# Early stopping to prevent overfitting\n",
        "early_stopping = EarlyStopping(\n",
        "    monitor='val_loss', patience=5, restore_best_weights=True\n",
        ")\n",
        "checkpoint = ModelCheckpoint('best_model.keras', monitor='val_loss', save_best_only=True)\n",
        "\n",
        "# Train the model with early stopping\n",
        "history = best_model.fit(\n",
        "    [eeg_train, clinical_train, image_train], y_train,\n",
        "    validation_data=([eeg_val, clinical_val, image_val], y_val),\n",
        "    epochs=50,  # Adjust based on validation performance\n",
        "    batch_size=32,\n",
        "    callbacks=[early_stopping, checkpoint]\n",
        ")\n"
      ],
      "metadata": {
        "id": "Ac3UoDYzbAtx"
      },
      "execution_count": null,
      "outputs": []
    },
    {
      "cell_type": "code",
      "source": [
        "from sklearn.metrics import classification_report, confusion_matrix\n",
        "import numpy as np\n",
        "\n",
        "# Predictions\n",
        "y_pred = best_model.predict([eeg_val, clinical_val, image_val])\n",
        "y_pred_classes = np.argmax(y_pred, axis=1)\n",
        "y_true = np.argmax(y_val, axis=1)\n",
        "\n",
        "# Confusion Matrix\n",
        "print(\"Confusion Matrix:\\n\", confusion_matrix(y_true, y_pred_classes))\n",
        "\n",
        "# Classification Report\n",
        "print(\"Classification Report:\\n\", classification_report(y_true, y_pred_classes))\n"
      ],
      "metadata": {
        "id": "EN6uTOyybKSD"
      },
      "execution_count": null,
      "outputs": []
    },
    {
      "cell_type": "code",
      "source": [
        "import matplotlib.pyplot as plt\n",
        "\n",
        "# Plot accuracy\n",
        "plt.plot(history.history['accuracy'], label='Training Accuracy')\n",
        "plt.plot(history.history['val_accuracy'], label='Validation Accuracy')\n",
        "plt.legend()\n",
        "plt.title('Model Accuracy')\n",
        "plt.show()\n",
        "\n",
        "# Plot loss\n",
        "plt.plot(history.history['loss'], label='Training Loss')\n",
        "plt.plot(history.history['val_loss'], label='Validation Loss')\n",
        "plt.legend()\n",
        "plt.title('Model Loss')\n",
        "plt.show()\n"
      ],
      "metadata": {
        "id": "x5ORXm6Vc-lN"
      },
      "execution_count": null,
      "outputs": []
    },
    {
      "cell_type": "markdown",
      "source": [
        "### Test Set"
      ],
      "metadata": {
        "id": "aGBFsXmydSAQ"
      }
    },
    {
      "cell_type": "code",
      "source": [
        "# Evaluate the model on the test set\n",
        "test_loss, test_accuracy = best_model.evaluate(\n",
        "    [eeg_test, clinical_test, image_test], y_test\n",
        ")\n",
        "\n",
        "print(f\"Test Loss: {test_loss}\")\n",
        "print(f\"Test Accuracy: {test_accuracy}\")\n"
      ],
      "metadata": {
        "id": "nW2JBzpkdVau"
      },
      "execution_count": null,
      "outputs": []
    },
    {
      "cell_type": "markdown",
      "source": [
        "## 6. Cross- Validation"
      ],
      "metadata": {
        "id": "r5bZ4T2j2b38"
      }
    },
    {
      "cell_type": "code",
      "source": [
        "import numpy as np\n",
        "from sklearn.model_selection import StratifiedKFold\n",
        "from tensorflow.keras.models import Model\n",
        "from tensorflow.keras.layers import Input, LSTM, Dense, Concatenate, Dropout, Flatten, Conv1D, MaxPooling1D\n",
        "from tensorflow.keras.optimizers import Adam\n",
        "from tensorflow.keras.regularizers import l2\n",
        "\n",
        "# Stratified K-Fold Cross-Validation setup (5-fold)\n",
        "kfold = StratifiedKFold(n_splits=10, shuffle=True, random_state=42)\n",
        "\n",
        "fold_no = 1\n",
        "for train_index, val_index in kfold.split(eeg_signal_standardized, labels.argmax(1)):  # Only use labels for stratification\n",
        "    print(f\"Training fold {fold_no}...\")\n",
        "\n",
        "    # Split the data into training and validation sets for this fold\n",
        "    X_train_eeg = eeg_signal_standardized[train_index]\n",
        "    X_val_eeg = eeg_signal_standardized[val_index]\n",
        "    X_train_clinical = eeg_clinical_standardized[train_index]\n",
        "    X_val_clinical = eeg_clinical_standardized[val_index]\n",
        "    X_train_image = eeg_images_standardized[train_index]\n",
        "    X_val_image = eeg_images_standardized[val_index]\n",
        "    y_train = labels[train_index]\n",
        "    y_val = labels[val_index]\n",
        "\n",
        "    # Define the model\n",
        "    eeg_input = Input(shape=(19, 304), name='eeg_input')  # Adjust shape if needed\n",
        "    x1 = LSTM(32, return_sequences=False)(eeg_input)  # Reduced LSTM units\n",
        "    x1 = Dropout(0.2)(x1)\n",
        "\n",
        "    clinical_input = Input(shape=(3,), name='clinical_input')  # 3 features\n",
        "    x2 = Dense(16, activation='relu')(clinical_input)  # Reduced dense units\n",
        "    x2 = Dropout(0.2)(x2)\n",
        "\n",
        "    image_input = Input(shape=(19, 768), name='image_input')  # 19 segments, each with 768 features\n",
        "    x3 = Conv1D(64, kernel_size=3, activation='relu')(image_input)  # Reduced filters\n",
        "    x3 = MaxPooling1D(pool_size=2)(x3)\n",
        "    x3 = Flatten()(x3)\n",
        "    x3 = Dropout(0.2)(x3)\n",
        "\n",
        "    # Concatenate EEG, Clinical, and Image features\n",
        "    combined = Concatenate()([x1, x2, x3])\n",
        "\n",
        "    # Add Dense Layers after Concatenation\n",
        "    x = Dense(32, activation='relu', kernel_regularizer=l2(0.01))(combined)  # Reduced dense layer size\n",
        "    x = Dropout(0.2)(x)\n",
        "\n",
        "    # Output Layer\n",
        "    output = Dense(3, activation='softmax')(x)  # For multi-class classification\n",
        "\n",
        "    # Define the model\n",
        "    model = Model(inputs=[eeg_input, clinical_input, image_input], outputs=output)\n",
        "\n",
        "    # Compile the model\n",
        "    model.compile(optimizer=Adam(learning_rate=0.001), loss='categorical_crossentropy', metrics=['accuracy'])\n",
        "\n",
        "    # Train the model for this fold\n",
        "    model.fit([X_train_eeg, X_train_clinical, X_train_image], y_train, epochs=10, batch_size=32, verbose=1)\n",
        "\n",
        "    # Evaluate the model on the validation set\n",
        "    val_loss, val_accuracy = model.evaluate([X_val_eeg, X_val_clinical, X_val_image], y_val, verbose=0)\n",
        "    print(f\"Validation accuracy for fold {fold_no}: {val_accuracy:.4f}\")\n",
        "\n",
        "    fold_no += 1\n"
      ],
      "metadata": {
        "colab": {
          "base_uri": "https://localhost:8080/"
        },
        "id": "thTOlvxw2fHv",
        "outputId": "8731d8c2-a83f-47d6-d70d-018c381f8425"
      },
      "execution_count": 9,
      "outputs": [
        {
          "output_type": "stream",
          "name": "stdout",
          "text": [
            "Training fold 1...\n",
            "Epoch 1/10\n",
            "\u001b[1m3/3\u001b[0m \u001b[32m━━━━━━━━━━━━━━━━━━━━\u001b[0m\u001b[37m\u001b[0m \u001b[1m7s\u001b[0m 58ms/step - accuracy: 0.2570 - loss: 2.5006\n",
            "Epoch 2/10\n",
            "\u001b[1m3/3\u001b[0m \u001b[32m━━━━━━━━━━━━━━━━━━━━\u001b[0m\u001b[37m\u001b[0m \u001b[1m0s\u001b[0m 98ms/step - accuracy: 0.6377 - loss: 1.3748\n",
            "Epoch 3/10\n",
            "\u001b[1m3/3\u001b[0m \u001b[32m━━━━━━━━━━━━━━━━━━━━\u001b[0m\u001b[37m\u001b[0m \u001b[1m1s\u001b[0m 88ms/step - accuracy: 0.7382 - loss: 1.1620\n",
            "Epoch 4/10\n",
            "\u001b[1m3/3\u001b[0m \u001b[32m━━━━━━━━━━━━━━━━━━━━\u001b[0m\u001b[37m\u001b[0m \u001b[1m1s\u001b[0m 60ms/step - accuracy: 0.8255 - loss: 1.0740\n",
            "Epoch 5/10\n",
            "\u001b[1m3/3\u001b[0m \u001b[32m━━━━━━━━━━━━━━━━━━━━\u001b[0m\u001b[37m\u001b[0m \u001b[1m1s\u001b[0m 38ms/step - accuracy: 0.9191 - loss: 0.8490\n",
            "Epoch 6/10\n",
            "\u001b[1m3/3\u001b[0m \u001b[32m━━━━━━━━━━━━━━━━━━━━\u001b[0m\u001b[37m\u001b[0m \u001b[1m0s\u001b[0m 38ms/step - accuracy: 0.9308 - loss: 0.8188\n",
            "Epoch 7/10\n",
            "\u001b[1m3/3\u001b[0m \u001b[32m━━━━━━━━━━━━━━━━━━━━\u001b[0m\u001b[37m\u001b[0m \u001b[1m0s\u001b[0m 37ms/step - accuracy: 0.9088 - loss: 0.8085\n",
            "Epoch 8/10\n",
            "\u001b[1m3/3\u001b[0m \u001b[32m━━━━━━━━━━━━━━━━━━━━\u001b[0m\u001b[37m\u001b[0m \u001b[1m0s\u001b[0m 38ms/step - accuracy: 0.9459 - loss: 0.7549\n",
            "Epoch 9/10\n",
            "\u001b[1m3/3\u001b[0m \u001b[32m━━━━━━━━━━━━━━━━━━━━\u001b[0m\u001b[37m\u001b[0m \u001b[1m0s\u001b[0m 23ms/step - accuracy: 0.9434 - loss: 0.7543 \n",
            "Epoch 10/10\n",
            "\u001b[1m3/3\u001b[0m \u001b[32m━━━━━━━━━━━━━━━━━━━━\u001b[0m\u001b[37m\u001b[0m \u001b[1m0s\u001b[0m 20ms/step - accuracy: 0.9434 - loss: 0.6872\n"
          ]
        },
        {
          "output_type": "stream",
          "name": "stderr",
          "text": [
            "WARNING:tensorflow:6 out of the last 6 calls to <function TensorFlowTrainer.make_test_function.<locals>.one_step_on_iterator at 0x7ce43eca3be0> triggered tf.function retracing. Tracing is expensive and the excessive number of tracings could be due to (1) creating @tf.function repeatedly in a loop, (2) passing tensors with different shapes, (3) passing Python objects instead of tensors. For (1), please define your @tf.function outside of the loop. For (2), @tf.function has reduce_retracing=True option that can avoid unnecessary retracing. For (3), please refer to https://www.tensorflow.org/guide/function#controlling_retracing and https://www.tensorflow.org/api_docs/python/tf/function for  more details.\n"
          ]
        },
        {
          "output_type": "stream",
          "name": "stdout",
          "text": [
            "Validation accuracy for fold 1: 0.5556\n",
            "Training fold 2...\n",
            "Epoch 1/10\n",
            "\u001b[1m3/3\u001b[0m \u001b[32m━━━━━━━━━━━━━━━━━━━━\u001b[0m\u001b[37m\u001b[0m \u001b[1m3s\u001b[0m 20ms/step - accuracy: 0.2525 - loss: 4.0848\n",
            "Epoch 2/10\n",
            "\u001b[1m3/3\u001b[0m \u001b[32m━━━━━━━━━━━━━━━━━━━━\u001b[0m\u001b[37m\u001b[0m \u001b[1m0s\u001b[0m 19ms/step - accuracy: 0.4753 - loss: 2.0254\n",
            "Epoch 3/10\n",
            "\u001b[1m3/3\u001b[0m \u001b[32m━━━━━━━━━━━━━━━━━━━━\u001b[0m\u001b[37m\u001b[0m \u001b[1m0s\u001b[0m 19ms/step - accuracy: 0.7869 - loss: 1.1412 \n",
            "Epoch 4/10\n",
            "\u001b[1m3/3\u001b[0m \u001b[32m━━━━━━━━━━━━━━━━━━━━\u001b[0m\u001b[37m\u001b[0m \u001b[1m0s\u001b[0m 20ms/step - accuracy: 0.7728 - loss: 1.1471 \n",
            "Epoch 5/10\n",
            "\u001b[1m3/3\u001b[0m \u001b[32m━━━━━━━━━━━━━━━━━━━━\u001b[0m\u001b[37m\u001b[0m \u001b[1m0s\u001b[0m 19ms/step - accuracy: 0.9537 - loss: 0.8377\n",
            "Epoch 6/10\n",
            "\u001b[1m3/3\u001b[0m \u001b[32m━━━━━━━━━━━━━━━━━━━━\u001b[0m\u001b[37m\u001b[0m \u001b[1m0s\u001b[0m 20ms/step - accuracy: 0.9112 - loss: 0.8681 \n",
            "Epoch 7/10\n",
            "\u001b[1m3/3\u001b[0m \u001b[32m━━━━━━━━━━━━━━━━━━━━\u001b[0m\u001b[37m\u001b[0m \u001b[1m0s\u001b[0m 22ms/step - accuracy: 0.9434 - loss: 0.7789 \n",
            "Epoch 8/10\n",
            "\u001b[1m3/3\u001b[0m \u001b[32m━━━━━━━━━━━━━━━━━━━━\u001b[0m\u001b[37m\u001b[0m \u001b[1m0s\u001b[0m 23ms/step - accuracy: 0.9332 - loss: 0.7588\n",
            "Epoch 9/10\n",
            "\u001b[1m3/3\u001b[0m \u001b[32m━━━━━━━━━━━━━━━━━━━━\u001b[0m\u001b[37m\u001b[0m \u001b[1m0s\u001b[0m 22ms/step - accuracy: 0.9269 - loss: 0.7375\n",
            "Epoch 10/10\n",
            "\u001b[1m3/3\u001b[0m \u001b[32m━━━━━━━━━━━━━━━━━━━━\u001b[0m\u001b[37m\u001b[0m \u001b[1m0s\u001b[0m 22ms/step - accuracy: 0.9639 - loss: 0.6310\n",
            "Validation accuracy for fold 2: 0.4444\n",
            "Training fold 3...\n",
            "Epoch 1/10\n",
            "\u001b[1m3/3\u001b[0m \u001b[32m━━━━━━━━━━━━━━━━━━━━\u001b[0m\u001b[37m\u001b[0m \u001b[1m3s\u001b[0m 21ms/step - accuracy: 0.3666 - loss: 3.2921\n",
            "Epoch 2/10\n",
            "\u001b[1m3/3\u001b[0m \u001b[32m━━━━━━━━━━━━━━━━━━━━\u001b[0m\u001b[37m\u001b[0m \u001b[1m0s\u001b[0m 19ms/step - accuracy: 0.6100 - loss: 1.5763\n",
            "Epoch 3/10\n",
            "\u001b[1m3/3\u001b[0m \u001b[32m━━━━━━━━━━━━━━━━━━━━\u001b[0m\u001b[37m\u001b[0m \u001b[1m0s\u001b[0m 20ms/step - accuracy: 0.7147 - loss: 1.2526\n",
            "Epoch 4/10\n",
            "\u001b[1m3/3\u001b[0m \u001b[32m━━━━━━━━━━━━━━━━━━━━\u001b[0m\u001b[37m\u001b[0m \u001b[1m0s\u001b[0m 19ms/step - accuracy: 0.7840 - loss: 1.1192\n",
            "Epoch 5/10\n",
            "\u001b[1m3/3\u001b[0m \u001b[32m━━━━━━━━━━━━━━━━━━━━\u001b[0m\u001b[37m\u001b[0m \u001b[1m0s\u001b[0m 25ms/step - accuracy: 0.7776 - loss: 1.0751\n",
            "Epoch 6/10\n",
            "\u001b[1m3/3\u001b[0m \u001b[32m━━━━━━━━━━━━━━━━━━━━\u001b[0m\u001b[37m\u001b[0m \u001b[1m0s\u001b[0m 25ms/step - accuracy: 0.9001 - loss: 0.8887\n",
            "Epoch 7/10\n",
            "\u001b[1m3/3\u001b[0m \u001b[32m━━━━━━━━━━━━━━━━━━━━\u001b[0m\u001b[37m\u001b[0m \u001b[1m0s\u001b[0m 23ms/step - accuracy: 0.8830 - loss: 0.8009\n",
            "Epoch 8/10\n",
            "\u001b[1m3/3\u001b[0m \u001b[32m━━━━━━━━━━━━━━━━━━━━\u001b[0m\u001b[37m\u001b[0m \u001b[1m0s\u001b[0m 23ms/step - accuracy: 0.9356 - loss: 0.7998\n",
            "Epoch 9/10\n",
            "\u001b[1m3/3\u001b[0m \u001b[32m━━━━━━━━━━━━━━━━━━━━\u001b[0m\u001b[37m\u001b[0m \u001b[1m0s\u001b[0m 24ms/step - accuracy: 0.9630 - loss: 0.7221\n",
            "Epoch 10/10\n",
            "\u001b[1m3/3\u001b[0m \u001b[32m━━━━━━━━━━━━━━━━━━━━\u001b[0m\u001b[37m\u001b[0m \u001b[1m0s\u001b[0m 24ms/step - accuracy: 0.9795 - loss: 0.6819\n",
            "Validation accuracy for fold 3: 0.4444\n",
            "Training fold 4...\n",
            "Epoch 1/10\n",
            "\u001b[1m3/3\u001b[0m \u001b[32m━━━━━━━━━━━━━━━━━━━━\u001b[0m\u001b[37m\u001b[0m \u001b[1m4s\u001b[0m 25ms/step - accuracy: 0.3686 - loss: 2.6750\n",
            "Epoch 2/10\n",
            "\u001b[1m3/3\u001b[0m \u001b[32m━━━━━━━━━━━━━━━━━━━━\u001b[0m\u001b[37m\u001b[0m \u001b[1m0s\u001b[0m 23ms/step - accuracy: 0.7084 - loss: 1.3580\n",
            "Epoch 3/10\n",
            "\u001b[1m3/3\u001b[0m \u001b[32m━━━━━━━━━━━━━━━━━━━━\u001b[0m\u001b[37m\u001b[0m \u001b[1m0s\u001b[0m 22ms/step - accuracy: 0.7187 - loss: 1.2304\n",
            "Epoch 4/10\n",
            "\u001b[1m3/3\u001b[0m \u001b[32m━━━━━━━━━━━━━━━━━━━━\u001b[0m\u001b[37m\u001b[0m \u001b[1m0s\u001b[0m 23ms/step - accuracy: 0.8781 - loss: 0.8794\n",
            "Epoch 5/10\n",
            "\u001b[1m3/3\u001b[0m \u001b[32m━━━━━━━━━━━━━━━━━━━━\u001b[0m\u001b[37m\u001b[0m \u001b[1m0s\u001b[0m 22ms/step - accuracy: 0.9527 - loss: 0.7183\n",
            "Epoch 6/10\n",
            "\u001b[1m3/3\u001b[0m \u001b[32m━━━━━━━━━━━━━━━━━━━━\u001b[0m\u001b[37m\u001b[0m \u001b[1m0s\u001b[0m 31ms/step - accuracy: 0.9254 - loss: 0.7726\n",
            "Epoch 7/10\n",
            "\u001b[1m3/3\u001b[0m \u001b[32m━━━━━━━━━━━━━━━━━━━━\u001b[0m\u001b[37m\u001b[0m \u001b[1m0s\u001b[0m 21ms/step - accuracy: 0.9717 - loss: 0.6647\n",
            "Epoch 8/10\n",
            "\u001b[1m3/3\u001b[0m \u001b[32m━━━━━━━━━━━━━━━━━━━━\u001b[0m\u001b[37m\u001b[0m \u001b[1m0s\u001b[0m 22ms/step - accuracy: 0.9176 - loss: 0.7173\n",
            "Epoch 9/10\n",
            "\u001b[1m3/3\u001b[0m \u001b[32m━━━━━━━━━━━━━━━━━━━━\u001b[0m\u001b[37m\u001b[0m \u001b[1m0s\u001b[0m 30ms/step - accuracy: 0.9356 - loss: 0.6876\n",
            "Epoch 10/10\n",
            "\u001b[1m3/3\u001b[0m \u001b[32m━━━━━━━━━━━━━━━━━━━━\u001b[0m\u001b[37m\u001b[0m \u001b[1m0s\u001b[0m 24ms/step - accuracy: 0.9756 - loss: 0.6238\n",
            "Validation accuracy for fold 4: 0.5556\n",
            "Training fold 5...\n",
            "Epoch 1/10\n",
            "\u001b[1m3/3\u001b[0m \u001b[32m━━━━━━━━━━━━━━━━━━━━\u001b[0m\u001b[37m\u001b[0m \u001b[1m3s\u001b[0m 20ms/step - accuracy: 0.3018 - loss: 2.2832\n",
            "Epoch 2/10\n",
            "\u001b[1m3/3\u001b[0m \u001b[32m━━━━━━━━━━━━━━━━━━━━\u001b[0m\u001b[37m\u001b[0m \u001b[1m0s\u001b[0m 19ms/step - accuracy: 0.6840 - loss: 1.5706\n",
            "Epoch 3/10\n",
            "\u001b[1m3/3\u001b[0m \u001b[32m━━━━━━━━━━━━━━━━━━━━\u001b[0m\u001b[37m\u001b[0m \u001b[1m0s\u001b[0m 29ms/step - accuracy: 0.7352 - loss: 1.1930\n",
            "Epoch 4/10\n",
            "\u001b[1m3/3\u001b[0m \u001b[32m━━━━━━━━━━━━━━━━━━━━\u001b[0m\u001b[37m\u001b[0m \u001b[1m0s\u001b[0m 24ms/step - accuracy: 0.7903 - loss: 1.0247\n",
            "Epoch 5/10\n",
            "\u001b[1m3/3\u001b[0m \u001b[32m━━━━━━━━━━━━━━━━━━━━\u001b[0m\u001b[37m\u001b[0m \u001b[1m0s\u001b[0m 22ms/step - accuracy: 0.9576 - loss: 0.7966\n",
            "Epoch 6/10\n",
            "\u001b[1m3/3\u001b[0m \u001b[32m━━━━━━━━━━━━━━━━━━━━\u001b[0m\u001b[37m\u001b[0m \u001b[1m0s\u001b[0m 19ms/step - accuracy: 0.9127 - loss: 0.7940\n",
            "Epoch 7/10\n",
            "\u001b[1m3/3\u001b[0m \u001b[32m━━━━━━━━━━━━━━━━━━━━\u001b[0m\u001b[37m\u001b[0m \u001b[1m0s\u001b[0m 18ms/step - accuracy: 0.9566 - loss: 0.7356\n",
            "Epoch 8/10\n",
            "\u001b[1m3/3\u001b[0m \u001b[32m━━━━━━━━━━━━━━━━━━━━\u001b[0m\u001b[37m\u001b[0m \u001b[1m0s\u001b[0m 19ms/step - accuracy: 0.9371 - loss: 0.7632\n",
            "Epoch 9/10\n",
            "\u001b[1m3/3\u001b[0m \u001b[32m━━━━━━━━━━━━━━━━━━━━\u001b[0m\u001b[37m\u001b[0m \u001b[1m0s\u001b[0m 19ms/step - accuracy: 0.9820 - loss: 0.6603\n",
            "Epoch 10/10\n",
            "\u001b[1m3/3\u001b[0m \u001b[32m━━━━━━━━━━━━━━━━━━━━\u001b[0m\u001b[37m\u001b[0m \u001b[1m0s\u001b[0m 19ms/step - accuracy: 0.9717 - loss: 0.6683 \n",
            "Validation accuracy for fold 5: 0.4444\n",
            "Training fold 6...\n",
            "Epoch 1/10\n",
            "\u001b[1m3/3\u001b[0m \u001b[32m━━━━━━━━━━━━━━━━━━━━\u001b[0m\u001b[37m\u001b[0m \u001b[1m3s\u001b[0m 25ms/step - accuracy: 0.3208 - loss: 2.7609\n",
            "Epoch 2/10\n",
            "\u001b[1m3/3\u001b[0m \u001b[32m━━━━━━━━━━━━━━━━━━━━\u001b[0m\u001b[37m\u001b[0m \u001b[1m0s\u001b[0m 25ms/step - accuracy: 0.7279 - loss: 1.3875\n",
            "Epoch 3/10\n",
            "\u001b[1m3/3\u001b[0m \u001b[32m━━━━━━━━━━━━━━━━━━━━\u001b[0m\u001b[37m\u001b[0m \u001b[1m0s\u001b[0m 21ms/step - accuracy: 0.7626 - loss: 1.1450\n",
            "Epoch 4/10\n",
            "\u001b[1m3/3\u001b[0m \u001b[32m━━━━━━━━━━━━━━━━━━━━\u001b[0m\u001b[37m\u001b[0m \u001b[1m0s\u001b[0m 23ms/step - accuracy: 0.8962 - loss: 0.9019\n",
            "Epoch 5/10\n",
            "\u001b[1m3/3\u001b[0m \u001b[32m━━━━━━━━━━━━━━━━━━━━\u001b[0m\u001b[37m\u001b[0m \u001b[1m0s\u001b[0m 21ms/step - accuracy: 0.8459 - loss: 1.0341\n",
            "Epoch 6/10\n",
            "\u001b[1m3/3\u001b[0m \u001b[32m━━━━━━━━━━━━━━━━━━━━\u001b[0m\u001b[37m\u001b[0m \u001b[1m0s\u001b[0m 19ms/step - accuracy: 0.9537 - loss: 0.7243\n",
            "Epoch 7/10\n",
            "\u001b[1m3/3\u001b[0m \u001b[32m━━━━━━━━━━━━━━━━━━━━\u001b[0m\u001b[37m\u001b[0m \u001b[1m0s\u001b[0m 35ms/step - accuracy: 0.8986 - loss: 0.7816\n",
            "Epoch 8/10\n",
            "\u001b[1m3/3\u001b[0m \u001b[32m━━━━━━━━━━━━━━━━━━━━\u001b[0m\u001b[37m\u001b[0m \u001b[1m0s\u001b[0m 36ms/step - accuracy: 0.9654 - loss: 0.6720\n",
            "Epoch 9/10\n",
            "\u001b[1m3/3\u001b[0m \u001b[32m━━━━━━━━━━━━━━━━━━━━\u001b[0m\u001b[37m\u001b[0m \u001b[1m0s\u001b[0m 34ms/step - accuracy: 0.9639 - loss: 0.6521\n",
            "Epoch 10/10\n",
            "\u001b[1m3/3\u001b[0m \u001b[32m━━━━━━━━━━━━━━━━━━━━\u001b[0m\u001b[37m\u001b[0m \u001b[1m0s\u001b[0m 35ms/step - accuracy: 0.9898 - loss: 0.6342\n",
            "Validation accuracy for fold 6: 0.5556\n",
            "Training fold 7...\n",
            "Epoch 1/10\n",
            "\u001b[1m3/3\u001b[0m \u001b[32m━━━━━━━━━━━━━━━━━━━━\u001b[0m\u001b[37m\u001b[0m \u001b[1m5s\u001b[0m 21ms/step - accuracy: 0.2823 - loss: 2.3420\n",
            "Epoch 2/10\n",
            "\u001b[1m3/3\u001b[0m \u001b[32m━━━━━━━━━━━━━━━━━━━━\u001b[0m\u001b[37m\u001b[0m \u001b[1m0s\u001b[0m 19ms/step - accuracy: 0.6982 - loss: 1.3811 \n",
            "Epoch 3/10\n",
            "\u001b[1m3/3\u001b[0m \u001b[32m━━━━━━━━━━━━━━━━━━━━\u001b[0m\u001b[37m\u001b[0m \u001b[1m0s\u001b[0m 19ms/step - accuracy: 0.8201 - loss: 0.9668\n",
            "Epoch 4/10\n",
            "\u001b[1m3/3\u001b[0m \u001b[32m━━━━━━━━━━━━━━━━━━━━\u001b[0m\u001b[37m\u001b[0m \u001b[1m0s\u001b[0m 19ms/step - accuracy: 0.8640 - loss: 0.9613 \n",
            "Epoch 5/10\n",
            "\u001b[1m3/3\u001b[0m \u001b[32m━━━━━━━━━━━━━━━━━━━━\u001b[0m\u001b[37m\u001b[0m \u001b[1m0s\u001b[0m 19ms/step - accuracy: 0.9025 - loss: 0.8814 \n",
            "Epoch 6/10\n",
            "\u001b[1m3/3\u001b[0m \u001b[32m━━━━━━━━━━━━━━━━━━━━\u001b[0m\u001b[37m\u001b[0m \u001b[1m0s\u001b[0m 25ms/step - accuracy: 0.9254 - loss: 0.7785 \n",
            "Epoch 7/10\n",
            "\u001b[1m3/3\u001b[0m \u001b[32m━━━━━━━━━━━━━━━━━━━━\u001b[0m\u001b[37m\u001b[0m \u001b[1m0s\u001b[0m 23ms/step - accuracy: 0.9098 - loss: 0.7733\n",
            "Epoch 8/10\n",
            "\u001b[1m3/3\u001b[0m \u001b[32m━━━━━━━━━━━━━━━━━━━━\u001b[0m\u001b[37m\u001b[0m \u001b[1m0s\u001b[0m 22ms/step - accuracy: 0.9717 - loss: 0.7175\n",
            "Epoch 9/10\n",
            "\u001b[1m3/3\u001b[0m \u001b[32m━━━━━━━━━━━━━━━━━━━━\u001b[0m\u001b[37m\u001b[0m \u001b[1m0s\u001b[0m 23ms/step - accuracy: 0.9576 - loss: 0.6973 \n",
            "Epoch 10/10\n",
            "\u001b[1m3/3\u001b[0m \u001b[32m━━━━━━━━━━━━━━━━━━━━\u001b[0m\u001b[37m\u001b[0m \u001b[1m0s\u001b[0m 24ms/step - accuracy: 0.9771 - loss: 0.6635\n",
            "Validation accuracy for fold 7: 0.2222\n",
            "Training fold 8...\n",
            "Epoch 1/10\n",
            "\u001b[1m3/3\u001b[0m \u001b[32m━━━━━━━━━━━━━━━━━━━━\u001b[0m\u001b[37m\u001b[0m \u001b[1m3s\u001b[0m 23ms/step - accuracy: 0.3232 - loss: 3.0523\n",
            "Epoch 2/10\n",
            "\u001b[1m3/3\u001b[0m \u001b[32m━━━━━━━━━━━━━━━━━━━━\u001b[0m\u001b[37m\u001b[0m \u001b[1m0s\u001b[0m 23ms/step - accuracy: 0.6407 - loss: 1.7083\n",
            "Epoch 3/10\n",
            "\u001b[1m3/3\u001b[0m \u001b[32m━━━━━━━━━━━━━━━━━━━━\u001b[0m\u001b[37m\u001b[0m \u001b[1m0s\u001b[0m 23ms/step - accuracy: 0.6870 - loss: 1.2680\n",
            "Epoch 4/10\n",
            "\u001b[1m3/3\u001b[0m \u001b[32m━━━━━━━━━━━━━━━━━━━━\u001b[0m\u001b[37m\u001b[0m \u001b[1m0s\u001b[0m 21ms/step - accuracy: 0.9142 - loss: 0.9304\n",
            "Epoch 5/10\n",
            "\u001b[1m3/3\u001b[0m \u001b[32m━━━━━━━━━━━━━━━━━━━━\u001b[0m\u001b[37m\u001b[0m \u001b[1m0s\u001b[0m 34ms/step - accuracy: 0.8586 - loss: 0.9222\n",
            "Epoch 6/10\n",
            "\u001b[1m3/3\u001b[0m \u001b[32m━━━━━━━━━━━━━━━━━━━━\u001b[0m\u001b[37m\u001b[0m \u001b[1m0s\u001b[0m 23ms/step - accuracy: 0.9284 - loss: 0.8105\n",
            "Epoch 7/10\n",
            "\u001b[1m3/3\u001b[0m \u001b[32m━━━━━━━━━━━━━━━━━━━━\u001b[0m\u001b[37m\u001b[0m \u001b[1m0s\u001b[0m 23ms/step - accuracy: 0.8766 - loss: 0.9137\n",
            "Epoch 8/10\n",
            "\u001b[1m3/3\u001b[0m \u001b[32m━━━━━━━━━━━━━━━━━━━━\u001b[0m\u001b[37m\u001b[0m \u001b[1m0s\u001b[0m 22ms/step - accuracy: 0.9512 - loss: 0.7445\n",
            "Epoch 9/10\n",
            "\u001b[1m3/3\u001b[0m \u001b[32m━━━━━━━━━━━━━━━━━━━━\u001b[0m\u001b[37m\u001b[0m \u001b[1m0s\u001b[0m 31ms/step - accuracy: 0.9356 - loss: 0.7394\n",
            "Epoch 10/10\n",
            "\u001b[1m3/3\u001b[0m \u001b[32m━━━━━━━━━━━━━━━━━━━━\u001b[0m\u001b[37m\u001b[0m \u001b[1m0s\u001b[0m 23ms/step - accuracy: 0.9756 - loss: 0.6529\n",
            "Validation accuracy for fold 8: 0.4444\n",
            "Training fold 9...\n",
            "Epoch 1/10\n",
            "\u001b[1m3/3\u001b[0m \u001b[32m━━━━━━━━━━━━━━━━━━━━\u001b[0m\u001b[37m\u001b[0m \u001b[1m3s\u001b[0m 36ms/step - accuracy: 0.3391 - loss: 2.2941\n",
            "Epoch 2/10\n",
            "\u001b[1m3/3\u001b[0m \u001b[32m━━━━━━━━━━━━━━━━━━━━\u001b[0m\u001b[37m\u001b[0m \u001b[1m0s\u001b[0m 34ms/step - accuracy: 0.6766 - loss: 1.4480\n",
            "Epoch 3/10\n",
            "\u001b[1m3/3\u001b[0m \u001b[32m━━━━━━━━━━━━━━━━━━━━\u001b[0m\u001b[37m\u001b[0m \u001b[1m0s\u001b[0m 37ms/step - accuracy: 0.8273 - loss: 0.9870\n",
            "Epoch 4/10\n",
            "\u001b[1m3/3\u001b[0m \u001b[32m━━━━━━━━━━━━━━━━━━━━\u001b[0m\u001b[37m\u001b[0m \u001b[1m0s\u001b[0m 34ms/step - accuracy: 0.8281 - loss: 1.0219\n",
            "Epoch 5/10\n",
            "\u001b[1m3/3\u001b[0m \u001b[32m━━━━━━━━━━━━━━━━━━━━\u001b[0m\u001b[37m\u001b[0m \u001b[1m0s\u001b[0m 31ms/step - accuracy: 0.9195 - loss: 0.7553\n",
            "Epoch 6/10\n",
            "\u001b[1m3/3\u001b[0m \u001b[32m━━━━━━━━━━━━━━━━━━━━\u001b[0m\u001b[37m\u001b[0m \u001b[1m0s\u001b[0m 40ms/step - accuracy: 0.9438 - loss: 0.7317\n",
            "Epoch 7/10\n",
            "\u001b[1m3/3\u001b[0m \u001b[32m━━━━━━━━━━━━━━━━━━━━\u001b[0m\u001b[37m\u001b[0m \u001b[1m0s\u001b[0m 37ms/step - accuracy: 0.9336 - loss: 0.7772\n",
            "Epoch 8/10\n",
            "\u001b[1m3/3\u001b[0m \u001b[32m━━━━━━━━━━━━━━━━━━━━\u001b[0m\u001b[37m\u001b[0m \u001b[1m0s\u001b[0m 38ms/step - accuracy: 0.9937 - loss: 0.6661\n",
            "Epoch 9/10\n",
            "\u001b[1m3/3\u001b[0m \u001b[32m━━━━━━━━━━━━━━━━━━━━\u001b[0m\u001b[37m\u001b[0m \u001b[1m0s\u001b[0m 36ms/step - accuracy: 0.9898 - loss: 0.6247\n",
            "Epoch 10/10\n",
            "\u001b[1m3/3\u001b[0m \u001b[32m━━━━━━━━━━━━━━━━━━━━\u001b[0m\u001b[37m\u001b[0m \u001b[1m0s\u001b[0m 36ms/step - accuracy: 1.0000 - loss: 0.6003\n",
            "Validation accuracy for fold 9: 0.2500\n",
            "Training fold 10...\n",
            "Epoch 1/10\n",
            "\u001b[1m3/3\u001b[0m \u001b[32m━━━━━━━━━━━━━━━━━━━━\u001b[0m\u001b[37m\u001b[0m \u001b[1m3s\u001b[0m 33ms/step - accuracy: 0.3883 - loss: 2.6747\n",
            "Epoch 2/10\n",
            "\u001b[1m3/3\u001b[0m \u001b[32m━━━━━━━━━━━━━━━━━━━━\u001b[0m\u001b[37m\u001b[0m \u001b[1m0s\u001b[0m 24ms/step - accuracy: 0.5023 - loss: 1.7299\n",
            "Epoch 3/10\n",
            "\u001b[1m3/3\u001b[0m \u001b[32m━━━━━━━━━━━━━━━━━━━━\u001b[0m\u001b[37m\u001b[0m \u001b[1m0s\u001b[0m 21ms/step - accuracy: 0.7320 - loss: 1.1734\n",
            "Epoch 4/10\n",
            "\u001b[1m3/3\u001b[0m \u001b[32m━━━━━━━━━━━━━━━━━━━━\u001b[0m\u001b[37m\u001b[0m \u001b[1m0s\u001b[0m 19ms/step - accuracy: 0.7641 - loss: 1.0832\n",
            "Epoch 5/10\n",
            "\u001b[1m3/3\u001b[0m \u001b[32m━━━━━━━━━━━━━━━━━━━━\u001b[0m\u001b[37m\u001b[0m \u001b[1m0s\u001b[0m 20ms/step - accuracy: 0.8430 - loss: 0.9753 \n",
            "Epoch 6/10\n",
            "\u001b[1m3/3\u001b[0m \u001b[32m━━━━━━━━━━━━━━━━━━━━\u001b[0m\u001b[37m\u001b[0m \u001b[1m0s\u001b[0m 19ms/step - accuracy: 0.8133 - loss: 0.9478\n",
            "Epoch 7/10\n",
            "\u001b[1m3/3\u001b[0m \u001b[32m━━━━━━━━━━━━━━━━━━━━\u001b[0m\u001b[37m\u001b[0m \u001b[1m0s\u001b[0m 20ms/step - accuracy: 0.8969 - loss: 0.8557\n",
            "Epoch 8/10\n",
            "\u001b[1m3/3\u001b[0m \u001b[32m━━━━━━━━━━━━━━━━━━━━\u001b[0m\u001b[37m\u001b[0m \u001b[1m0s\u001b[0m 19ms/step - accuracy: 0.8375 - loss: 0.9098\n",
            "Epoch 9/10\n",
            "\u001b[1m3/3\u001b[0m \u001b[32m━━━━━━━━━━━━━━━━━━━━\u001b[0m\u001b[37m\u001b[0m \u001b[1m0s\u001b[0m 32ms/step - accuracy: 0.9797 - loss: 0.7046\n",
            "Epoch 10/10\n",
            "\u001b[1m3/3\u001b[0m \u001b[32m━━━━━━━━━━━━━━━━━━━━\u001b[0m\u001b[37m\u001b[0m \u001b[1m0s\u001b[0m 24ms/step - accuracy: 0.9000 - loss: 0.8109\n",
            "Validation accuracy for fold 10: 0.2500\n"
          ]
        }
      ]
    },
    {
      "cell_type": "markdown",
      "source": [
        "## Grid Search"
      ],
      "metadata": {
        "id": "PkjDdt98q9b3"
      }
    },
    {
      "cell_type": "code",
      "source": [
        "pip install keras_tuner --upgrade"
      ],
      "metadata": {
        "colab": {
          "base_uri": "https://localhost:8080/"
        },
        "id": "Oe0gpba6tWN-",
        "outputId": "6bfa802a-78eb-4dc8-da60-f2f296e6d1b1"
      },
      "execution_count": 32,
      "outputs": [
        {
          "output_type": "stream",
          "name": "stdout",
          "text": [
            "Collecting keras_tuner\n",
            "  Downloading keras_tuner-1.4.7-py3-none-any.whl.metadata (5.4 kB)\n",
            "Requirement already satisfied: keras in /usr/local/lib/python3.10/dist-packages (from keras_tuner) (3.5.0)\n",
            "Requirement already satisfied: packaging in /usr/local/lib/python3.10/dist-packages (from keras_tuner) (24.2)\n",
            "Requirement already satisfied: requests in /usr/local/lib/python3.10/dist-packages (from keras_tuner) (2.32.3)\n",
            "Collecting kt-legacy (from keras_tuner)\n",
            "  Downloading kt_legacy-1.0.5-py3-none-any.whl.metadata (221 bytes)\n",
            "Requirement already satisfied: absl-py in /usr/local/lib/python3.10/dist-packages (from keras->keras_tuner) (1.4.0)\n",
            "Requirement already satisfied: numpy in /usr/local/lib/python3.10/dist-packages (from keras->keras_tuner) (1.26.4)\n",
            "Requirement already satisfied: rich in /usr/local/lib/python3.10/dist-packages (from keras->keras_tuner) (13.9.4)\n",
            "Requirement already satisfied: namex in /usr/local/lib/python3.10/dist-packages (from keras->keras_tuner) (0.0.8)\n",
            "Requirement already satisfied: h5py in /usr/local/lib/python3.10/dist-packages (from keras->keras_tuner) (3.12.1)\n",
            "Requirement already satisfied: optree in /usr/local/lib/python3.10/dist-packages (from keras->keras_tuner) (0.13.1)\n",
            "Requirement already satisfied: ml-dtypes in /usr/local/lib/python3.10/dist-packages (from keras->keras_tuner) (0.4.1)\n",
            "Requirement already satisfied: charset-normalizer<4,>=2 in /usr/local/lib/python3.10/dist-packages (from requests->keras_tuner) (3.4.0)\n",
            "Requirement already satisfied: idna<4,>=2.5 in /usr/local/lib/python3.10/dist-packages (from requests->keras_tuner) (3.10)\n",
            "Requirement already satisfied: urllib3<3,>=1.21.1 in /usr/local/lib/python3.10/dist-packages (from requests->keras_tuner) (2.2.3)\n",
            "Requirement already satisfied: certifi>=2017.4.17 in /usr/local/lib/python3.10/dist-packages (from requests->keras_tuner) (2024.8.30)\n",
            "Requirement already satisfied: typing-extensions>=4.5.0 in /usr/local/lib/python3.10/dist-packages (from optree->keras->keras_tuner) (4.12.2)\n",
            "Requirement already satisfied: markdown-it-py>=2.2.0 in /usr/local/lib/python3.10/dist-packages (from rich->keras->keras_tuner) (3.0.0)\n",
            "Requirement already satisfied: pygments<3.0.0,>=2.13.0 in /usr/local/lib/python3.10/dist-packages (from rich->keras->keras_tuner) (2.18.0)\n",
            "Requirement already satisfied: mdurl~=0.1 in /usr/local/lib/python3.10/dist-packages (from markdown-it-py>=2.2.0->rich->keras->keras_tuner) (0.1.2)\n",
            "Downloading keras_tuner-1.4.7-py3-none-any.whl (129 kB)\n",
            "\u001b[2K   \u001b[90m━━━━━━━━━━━━━━━━━━━━━━━━━━━━━━━━━━━━━━━━\u001b[0m \u001b[32m129.1/129.1 kB\u001b[0m \u001b[31m4.0 MB/s\u001b[0m eta \u001b[36m0:00:00\u001b[0m\n",
            "\u001b[?25hDownloading kt_legacy-1.0.5-py3-none-any.whl (9.6 kB)\n",
            "Installing collected packages: kt-legacy, keras_tuner\n",
            "Successfully installed keras_tuner-1.4.7 kt-legacy-1.0.5\n"
          ]
        }
      ]
    },
    {
      "cell_type": "code",
      "source": [
        "import keras_tuner as kt\n",
        "import tensorflow as tf\n",
        "from tensorflow.keras.optimizers import Adam\n",
        "from tensorflow.keras.layers import LSTM, Dense, Dropout, Conv1D, MaxPooling1D, Input, Concatenate, Flatten\n",
        "from tensorflow.keras.models import Model\n",
        "\n",
        "# Define the model-building function for Bayesian optimization\n",
        "def build_model(hp):\n",
        "    # EEG Input\n",
        "    eeg_input = Input(shape=(19, 304), name='eeg_input')\n",
        "    x1 = LSTM(hp.Int('lstm_units', min_value=64, max_value=128, step=32), return_sequences=False)(eeg_input)\n",
        "    x1 = Dropout(hp.Float('dropout_rate', min_value=0.2, max_value=0.4, step=0.1))(x1)\n",
        "\n",
        "    # Clinical Input\n",
        "    clinical_input = Input(shape=(3,), name='clinical_input')\n",
        "    x2 = Dense(hp.Int('dense_units', min_value=32, max_value=64, step=16), activation='relu')(clinical_input)\n",
        "    x2 = Dropout(hp.Float('dropout_rate', min_value=0.2, max_value=0.4, step=0.1))(x2)\n",
        "\n",
        "    # Image Features Input\n",
        "    image_input = Input(shape=(19, 768), name='image_input')\n",
        "    x3 = Conv1D(64, kernel_size=3, activation='relu')(image_input)\n",
        "    x3 = MaxPooling1D(pool_size=2)(x3)\n",
        "    x3 = Flatten()(x3)\n",
        "    x3 = Dropout(hp.Float('dropout_rate', min_value=0.2, max_value=0.4, step=0.1))(x3)\n",
        "\n",
        "    # Concatenate EEG, Clinical, and Image features\n",
        "    combined = Concatenate()([x1, x2, x3])\n",
        "\n",
        "    # Dense Layers after Concatenation\n",
        "    x = Dense(hp.Int('dense_2_units', min_value=32, max_value=64, step=16), activation='relu')(combined)\n",
        "    x = Dropout(hp.Float('dropout_rate', min_value=0.2, max_value=0.4, step=0.1))(x)\n",
        "\n",
        "    # Output Layer\n",
        "    output = Dense(3, activation='softmax')(x)\n",
        "\n",
        "    # Compile the model\n",
        "    model = Model(inputs=[eeg_input, clinical_input, image_input], outputs=output)\n",
        "\n",
        "    # Optimizer and learning rate hyperparameter\n",
        "    model.compile(optimizer=Adam(learning_rate=hp.Float('learning_rate', min_value=0.0001, max_value=0.01, sampling='log')),\n",
        "                  loss='categorical_crossentropy', metrics=['accuracy'])\n",
        "\n",
        "    return model\n",
        "\n",
        "# Initialize the tuner with the correct oracle configuration\n",
        "tuner = kt.BayesianOptimization(\n",
        "    build_model,\n",
        "    objective='val_accuracy',  # We are optimizing validation accuracy\n",
        "    max_trials=20,  # Increased the number of trials for better optimization\n",
        "    executions_per_trial=1,  # Each trial will run once\n",
        "    directory='bayesian_optimization',  # Directory for saving results\n",
        "    project_name='eeg_model',  # Project name\n",
        "    overwrite=True  # Overwrite previous results\n",
        ")\n",
        "\n",
        "# Adding early stopping callback to save computation time during optimization\n",
        "early_stopping = tf.keras.callbacks.EarlyStopping(monitor='val_loss', patience=5, restore_best_weights=True)\n",
        "\n",
        "# Start the hyperparameter search\n",
        "tuner.search(\n",
        "    [eeg_signal_standardized, eeg_clinical_standardized, eeg_images_standardized],\n",
        "    labels,\n",
        "    epochs=20,  # Increased epochs for better training during optimization\n",
        "    batch_size=32,\n",
        "    validation_split=0.1,  # 10% of data for validation\n",
        "    callbacks=[early_stopping]  # Apply early stopping to avoid overfitting\n",
        ")\n",
        "\n",
        "# Get the best hyperparameters after the search\n",
        "best_hps = tuner.get_best_hyperparameters(num_trials=1)[0]\n",
        "print(\"Best Hyperparameters found: \", best_hps.values)\n",
        "\n",
        "# Optionally, you can retrieve the best model and evaluate on a separate test set\n",
        "best_model = tuner.get_best_models(num_models=1)[0]\n",
        "best_model.evaluate([eeg_signal_standardized, eeg_clinical_standardized, eeg_images_standardized], labels)\n"
      ],
      "metadata": {
        "colab": {
          "base_uri": "https://localhost:8080/"
        },
        "id": "RpqVLLD6tTpe",
        "outputId": "fe9695d3-9933-4f7b-8996-9f58650fd48f"
      },
      "execution_count": 36,
      "outputs": [
        {
          "output_type": "stream",
          "name": "stdout",
          "text": [
            "Trial 20 Complete [00h 00m 08s]\n",
            "val_accuracy: 0.2222222238779068\n",
            "\n",
            "Best val_accuracy So Far: 0.7777777910232544\n",
            "Total elapsed time: 00h 02m 42s\n",
            "Best Hyperparameters found:  {'lstm_units': 64, 'dropout_rate': 0.30000000000000004, 'dense_units': 64, 'dense_2_units': 64, 'learning_rate': 0.002395527782587919}\n"
          ]
        },
        {
          "output_type": "stream",
          "name": "stderr",
          "text": [
            "/usr/local/lib/python3.10/dist-packages/keras/src/saving/saving_lib.py:713: UserWarning: Skipping variable loading for optimizer 'adam', because it has 2 variables whereas the saved optimizer has 24 variables. \n",
            "  saveable.load_own_variables(weights_store.get(inner_path))\n"
          ]
        },
        {
          "output_type": "stream",
          "name": "stdout",
          "text": [
            "\u001b[1m3/3\u001b[0m \u001b[32m━━━━━━━━━━━━━━━━━━━━\u001b[0m\u001b[37m\u001b[0m \u001b[1m1s\u001b[0m 20ms/step - accuracy: 0.5146 - loss: 0.9926 \n"
          ]
        },
        {
          "output_type": "execute_result",
          "data": {
            "text/plain": [
              "[0.8740225434303284, 0.5681818127632141]"
            ]
          },
          "metadata": {},
          "execution_count": 36
        }
      ]
    },
    {
      "cell_type": "markdown",
      "source": [
        "## Retraining Model"
      ],
      "metadata": {
        "id": "lJsieV_DvKx2"
      }
    },
    {
      "cell_type": "code",
      "source": [
        "from sklearn.metrics import confusion_matrix, classification_report, roc_curve, auc\n",
        "import matplotlib.pyplot as plt\n",
        "import seaborn as sns\n",
        "from sklearn.preprocessing import label_binarize\n",
        "\n",
        "# Initialize variables to track the best fold\n",
        "best_fold_index = -1\n",
        "best_val_accuracy = 0\n",
        "best_y_true = None\n",
        "best_y_pred = None\n",
        "best_model = None\n",
        "\n",
        "# Start the cross-validation process\n",
        "for fold_no, (train_index, val_index) in enumerate(skf.split(X_eeg, y_labels.argmax(1))):\n",
        "    print(f\"Training fold {fold_no + 1}...\")\n",
        "\n",
        "    # Split data into training and validation sets\n",
        "    X_train_eeg, X_val_eeg = X_eeg[train_index], X_eeg[val_index]\n",
        "    X_train_clinical, X_val_clinical = X_clinical[train_index], X_clinical[val_index]\n",
        "    X_train_images, X_val_images = X_images[train_index], X_images[val_index]\n",
        "    y_train, y_val = y_labels[train_index], y_labels[val_index]\n",
        "\n",
        "    # Define the model for this fold\n",
        "    eeg_input = Input(shape=(X_train_eeg.shape[1], X_train_eeg.shape[2]), name='eeg_input')\n",
        "    x1 = LSTM(best_hyperparameters['lstm_units'], return_sequences=False)(eeg_input)\n",
        "    x1 = Dropout(best_hyperparameters['dropout_rate'])(x1)\n",
        "\n",
        "    clinical_input = Input(shape=(X_train_clinical.shape[1],), name='clinical_input')\n",
        "    x2 = Dense(best_hyperparameters['dense_units'], activation='relu')(clinical_input)\n",
        "    x2 = Dropout(best_hyperparameters['dropout_rate'])(x2)\n",
        "\n",
        "    image_input = Input(shape=(X_train_images.shape[1], X_train_images.shape[2]), name='image_input')\n",
        "    x3 = Conv1D(64, kernel_size=3, activation='relu')(image_input)\n",
        "    x3 = MaxPooling1D(pool_size=2)(x3)\n",
        "    x3 = Flatten()(x3)\n",
        "    x3 = Dropout(best_hyperparameters['dropout_rate'])(x3)\n",
        "\n",
        "    # Concatenate all inputs\n",
        "    combined = Concatenate()([x1, x2, x3])\n",
        "\n",
        "    # Dense layers\n",
        "    x = Dense(best_hyperparameters['dense_2_units'], activation='relu')(combined)\n",
        "    x = Dropout(best_hyperparameters['dropout_rate'])(x)\n",
        "\n",
        "    # Output layer\n",
        "    output = Dense(3, activation='softmax')(x)\n",
        "\n",
        "    # Compile the model\n",
        "    model = Model(inputs=[eeg_input, clinical_input, image_input], outputs=output)\n",
        "    model.compile(optimizer=Adam(learning_rate=best_hyperparameters['learning_rate']),\n",
        "                  loss='categorical_crossentropy', metrics=['accuracy'])\n",
        "\n",
        "    # Train the model on the training data\n",
        "    model.fit([X_train_eeg, X_train_clinical, X_train_images], y_train, epochs=50, batch_size=32, verbose=0)\n",
        "\n",
        "    # Evaluate the model on the validation data\n",
        "    val_loss, val_accuracy = model.evaluate([X_val_eeg, X_val_clinical, X_val_images], y_val, verbose=0)\n",
        "    print(f\"Validation accuracy for fold {fold_no + 1}: {val_accuracy:.4f}\")\n",
        "\n",
        "    # Store the model and results for the fold with the maximum validation accuracy\n",
        "    if val_accuracy > best_val_accuracy:\n",
        "        best_val_accuracy = val_accuracy\n",
        "        best_fold_index = fold_no\n",
        "        best_y_true = y_val\n",
        "        best_y_pred = model.predict([X_val_eeg, X_val_clinical, X_val_images])\n",
        "        best_model = model\n",
        "\n",
        "# Print overall results\n",
        "mean_accuracy = np.mean(fold_accuracies)\n",
        "std_accuracy = np.std(fold_accuracies)\n",
        "print(f\"Mean validation accuracy: {mean_accuracy:.4f}\")\n",
        "print(f\"Standard deviation: {std_accuracy:.4f}\")\n",
        "\n",
        "# After cross-validation, we have the best model for the highest validation accuracy fold\n",
        "\n",
        "# Confusion Matrix\n",
        "cm = confusion_matrix(best_y_true.argmax(1), best_y_pred.argmax(1))\n",
        "\n",
        "# Classification Report\n",
        "class_report = classification_report(best_y_true.argmax(1), best_y_pred.argmax(1), target_names=['Class 0', 'Class 1', 'Class 2'])\n",
        "\n",
        "# Displaying Confusion Matrix\n",
        "plt.figure(figsize=(8, 6))\n",
        "sns.heatmap(cm, annot=True, fmt='d', cmap='Blues', xticklabels=['Class 0', 'Class 1', 'Class 2'], yticklabels=['Class 0', 'Class 1', 'Class 2'])\n",
        "plt.title('Confusion Matrix - Best Fold (Max Validation Accuracy)')\n",
        "plt.ylabel('True Label')\n",
        "plt.xlabel('Predicted Label')\n",
        "plt.show()\n",
        "\n",
        "# Display Classification Report\n",
        "print(\"Classification Report:\")\n",
        "print(class_report)\n",
        "\n",
        "# ROC and AUC for all classes\n",
        "# Binarize the true labels\n",
        "y_true_bin = label_binarize(best_y_true.argmax(1), classes=[0, 1, 2])\n",
        "\n",
        "# Compute ROC curve and AUC for each class\n",
        "plt.figure(figsize=(10, 8))\n",
        "\n",
        "# Loop through each class and plot ROC curve\n",
        "for i in range(y_true_bin.shape[1]):\n",
        "    fpr, tpr, _ = roc_curve(y_true_bin[:, i], best_y_pred[:, i])  # For each class\n",
        "    roc_auc = auc(fpr, tpr)\n",
        "    plt.plot(fpr, tpr, lw=2, label=f'Class {i} (AUC = {roc_auc:.2f})')\n",
        "\n",
        "# Plot ROC curve for all classes\n",
        "plt.plot([0, 1], [0, 1], color='navy', lw=2, linestyle='--')\n",
        "plt.xlim([0.0, 1.0])\n",
        "plt.ylim([0.0, 1.05])\n",
        "plt.xlabel('False Positive Rate')\n",
        "plt.ylabel('True Positive Rate')\n",
        "plt.title('Receiver Operating Characteristic (ROC) Curve for All Classes')\n",
        "plt.legend(loc='lower right')\n",
        "plt.show()\n",
        "\n"
      ],
      "metadata": {
        "colab": {
          "base_uri": "https://localhost:8080/"
        },
        "id": "1BIt8HQDvNEB",
        "outputId": "653a3881-5d42-40c7-8f7a-73f351ace8dd"
      },
      "execution_count": 39,
      "outputs": [
        {
          "output_type": "stream",
          "name": "stdout",
          "text": [
            "Training fold 1...\n",
            "Validation accuracy for fold 1: 0.2222\n",
            "Training fold 2...\n",
            "Validation accuracy for fold 2: 0.5556\n",
            "Training fold 3...\n",
            "Validation accuracy for fold 3: 0.4444\n",
            "Training fold 4...\n",
            "Validation accuracy for fold 4: 0.5556\n",
            "Training fold 5...\n",
            "Validation accuracy for fold 5: 0.7778\n",
            "Training fold 6...\n",
            "Validation accuracy for fold 6: 0.6667\n",
            "Training fold 7...\n",
            "Validation accuracy for fold 7: 0.3333\n",
            "Training fold 8...\n",
            "Validation accuracy for fold 8: 0.4444\n",
            "Training fold 9...\n",
            "Validation accuracy for fold 9: 0.5000\n",
            "Training fold 10...\n",
            "Validation accuracy for fold 10: 0.6250\n",
            "Mean validation accuracy: 0.5125\n",
            "Standard deviation: 0.1537\n"
          ]
        }
      ]
    },
    {
      "cell_type": "code",
      "source": [
        "# Print overall results\n",
        "mean_accuracy = np.max(fold_accuracies)\n",
        "std_accuracy = np.std(fold_accuracies)\n",
        "print(f\"Mean validation accuracy: {mean_accuracy:.4f}\")\n",
        "print(f\"Standard deviation: {std_accuracy:.4f}\")"
      ],
      "metadata": {
        "colab": {
          "base_uri": "https://localhost:8080/"
        },
        "id": "3U2kUtBUvThT",
        "outputId": "e8f1c408-4e35-47a5-c2c1-762356a38873"
      },
      "execution_count": 40,
      "outputs": [
        {
          "output_type": "stream",
          "name": "stdout",
          "text": [
            "Mean validation accuracy: 0.7778\n",
            "Standard deviation: 0.1537\n"
          ]
        }
      ]
    },
    {
      "cell_type": "markdown",
      "source": [
        "## Evaluation Metrics"
      ],
      "metadata": {
        "id": "8ZRAi-wA024T"
      }
    },
    {
      "cell_type": "code",
      "source": [
        "from sklearn.metrics import confusion_matrix, classification_report, roc_curve, auc, precision_score, recall_score, f1_score\n",
        "from sklearn.preprocessing import label_binarize\n",
        "import matplotlib.pyplot as plt\n",
        "import seaborn as sns\n",
        "import numpy as np\n",
        "from sklearn.model_selection import StratifiedKFold\n",
        "from tensorflow.keras.models import Model\n",
        "from tensorflow.keras.layers import Input, LSTM, Dense, Dropout, Conv1D, MaxPooling1D, Flatten, Concatenate\n",
        "from tensorflow.keras.optimizers import Adam\n",
        "from sklearn.utils import shuffle\n",
        "\n",
        "# Example of data (replace this with your actual data)\n",
        "# X_eeg, X_clinical, X_images, y_labels should be preprocessed data arrays\n",
        "\n",
        "# Stratified K-Fold Cross-Validation\n",
        "skf = StratifiedKFold(n_splits=10)\n",
        "\n",
        "# Hyperparameters (example values, adjust as needed)\n",
        "best_hyperparameters = {\n",
        "    'lstm_units': 64,\n",
        "    'dropout_rate': 0.2,\n",
        "    'dense_units': 128,\n",
        "    'dense_2_units': 64,\n",
        "    'learning_rate': 0.001\n",
        "}\n",
        "\n",
        "# Initialize variables to track the best fold\n",
        "best_fold_index = -1\n",
        "best_val_accuracy = 0\n",
        "best_y_true = None\n",
        "best_y_pred = None\n",
        "best_model = None\n",
        "fold_accuracies = []\n",
        "\n",
        "# Start the cross-validation process\n",
        "for fold_no, (train_index, val_index) in enumerate(skf.split(X_eeg, y_labels.argmax(1))):\n",
        "    print(f\"Training fold {fold_no + 1}...\")\n",
        "\n",
        "    # Split data into training and validation sets\n",
        "    X_train_eeg, X_val_eeg = X_eeg[train_index], X_eeg[val_index]\n",
        "    X_train_clinical, X_val_clinical = X_clinical[train_index], X_clinical[val_index]\n",
        "    X_train_images, X_val_images = X_images[train_index], X_images[val_index]\n",
        "    y_train, y_val = y_labels[train_index], y_labels[val_index]\n",
        "\n",
        "    # Define the model for this fold\n",
        "    eeg_input = Input(shape=(X_train_eeg.shape[1], X_train_eeg.shape[2]), name='eeg_input')\n",
        "    x1 = LSTM(best_hyperparameters['lstm_units'], return_sequences=False)(eeg_input)\n",
        "    x1 = Dropout(best_hyperparameters['dropout_rate'])(x1)\n",
        "\n",
        "    clinical_input = Input(shape=(X_train_clinical.shape[1],), name='clinical_input')\n",
        "    x2 = Dense(best_hyperparameters['dense_units'], activation='relu')(clinical_input)\n",
        "    x2 = Dropout(best_hyperparameters['dropout_rate'])(x2)\n",
        "\n",
        "    image_input = Input(shape=(X_train_images.shape[1], X_train_images.shape[2]), name='image_input')\n",
        "    x3 = Conv1D(64, kernel_size=3, activation='relu')(image_input)\n",
        "    x3 = MaxPooling1D(pool_size=2)(x3)\n",
        "    x3 = Flatten()(x3)\n",
        "    x3 = Dropout(best_hyperparameters['dropout_rate'])(x3)\n",
        "\n",
        "    # Concatenate all inputs\n",
        "    combined = Concatenate()([x1, x2, x3])\n",
        "\n",
        "    # Dense layers\n",
        "    x = Dense(best_hyperparameters['dense_2_units'], activation='relu')(combined)\n",
        "    x = Dropout(best_hyperparameters['dropout_rate'])(x)\n",
        "\n",
        "    # Output layer\n",
        "    output = Dense(3, activation='softmax')(x)\n",
        "\n",
        "    # Compile the model\n",
        "    model = Model(inputs=[eeg_input, clinical_input, image_input], outputs=output)\n",
        "    model.compile(optimizer=Adam(learning_rate=best_hyperparameters['learning_rate']),\n",
        "                  loss='categorical_crossentropy', metrics=['accuracy'])\n",
        "\n",
        "    # Train the model on the training data\n",
        "    model.fit([X_train_eeg, X_train_clinical, X_train_images], y_train, epochs=50, batch_size=32, verbose=0)\n",
        "\n",
        "    # Evaluate the model on the validation data\n",
        "    val_loss, val_accuracy = model.evaluate([X_val_eeg, X_val_clinical, X_val_images], y_val, verbose=0)\n",
        "    print(f\"Validation accuracy for fold {fold_no + 1}: {val_accuracy:.4f}\")\n",
        "\n",
        "    # Save fold accuracy for averaging\n",
        "    fold_accuracies.append(val_accuracy)\n",
        "\n",
        "    # Store the model and results for the fold with the maximum validation accuracy\n",
        "    if val_accuracy > best_val_accuracy:\n",
        "        best_val_accuracy = val_accuracy\n",
        "        best_fold_index = fold_no\n",
        "        best_y_true = y_val\n",
        "        best_y_pred = model.predict([X_val_eeg, X_val_clinical, X_val_images])\n",
        "        best_model = model\n",
        "\n",
        "# Print overall results\n",
        "mean_accuracy = np.mean(fold_accuracies)\n",
        "std_accuracy = np.std(fold_accuracies)\n",
        "print(f\"Mean validation accuracy: {mean_accuracy:.4f}\")\n",
        "print(f\"Standard deviation: {std_accuracy:.4f}\")\n",
        "\n",
        "# After cross-validation, we have the best model for the highest validation accuracy fold\n",
        "\n",
        "# Confusion Matrix\n",
        "cm = confusion_matrix(best_y_true.argmax(1), best_y_pred.argmax(1))\n",
        "\n",
        "# Classification Report\n",
        "class_report = classification_report(best_y_true.argmax(1), best_y_pred.argmax(1), target_names=['Class 0', 'Class 1', 'Class 2'])\n",
        "\n",
        "# Displaying Confusion Matrix\n",
        "plt.figure(figsize=(8, 6))\n",
        "sns.heatmap(cm, annot=True, fmt='d', cmap='Blues', xticklabels=['Class 0', 'Class 1', 'Class 2'], yticklabels=['Class 0', 'Class 1', 'Class 2'])\n",
        "plt.title('Confusion Matrix - Best Fold (Max Validation Accuracy)')\n",
        "plt.ylabel('True Label')\n",
        "plt.xlabel('Predicted Label')\n",
        "plt.show()\n",
        "\n",
        "# Display Classification Report\n",
        "print(\"Classification Report:\")\n",
        "print(class_report)\n",
        "\n",
        "# ROC and AUC for all classes\n",
        "# Binarize the true labels\n",
        "y_true_bin = label_binarize(best_y_true.argmax(1), classes=[0, 1, 2])\n",
        "\n",
        "# Compute ROC curve and AUC for each class\n",
        "plt.figure(figsize=(10, 8))\n",
        "\n",
        "# Loop through each class and plot ROC curve\n",
        "for i in range(y_true_bin.shape[1]):\n",
        "    fpr, tpr, _ = roc_curve(y_true_bin[:, i], best_y_pred[:, i])  # For each class\n",
        "    roc_auc = auc(fpr, tpr)\n",
        "    plt.plot(fpr, tpr, lw=2, label=f'Class {i} (AUC = {roc_auc:.2f})')\n",
        "\n",
        "# Plot ROC curve for all classes\n",
        "plt.plot([0, 1], [0, 1], color='navy', lw=2, linestyle='--')\n",
        "plt.xlim([0.0, 1.0])\n",
        "plt.ylim([0.0, 1.05])\n",
        "plt.xlabel('False Positive Rate')\n",
        "plt.ylabel('True Positive Rate')\n",
        "plt.title('Receiver Operating Characteristic (ROC) Curve for All Classes')\n",
        "plt.legend(loc='lower right')\n",
        "plt.show()\n",
        "\n",
        "# Additional Metrics Calculation\n",
        "y_pred_labels = np.argmax(best_y_pred, axis=1)\n",
        "y_true_labels = np.argmax(best_y_true, axis=1)\n",
        "\n",
        "# Accuracy\n",
        "accuracy = np.mean(y_pred_labels == y_true_labels)\n",
        "print(f\"Accuracy: {accuracy:.4f}\")\n",
        "\n",
        "# Precision, Recall, F1-Score\n",
        "precision = precision_score(y_true_labels, y_pred_labels, average='weighted')\n",
        "recall = recall_score(y_true_labels, y_pred_labels, average='weighted')\n",
        "f1 = f1_score(y_true_labels, y_pred_labels, average='weighted')\n",
        "\n",
        "print(f\"Precision: {precision:.4f}\")\n",
        "print(f\"Recall: {recall:.4f}\")\n",
        "print(f\"F1-Score: {f1:.4f}\")\n"
      ],
      "metadata": {
        "colab": {
          "base_uri": "https://localhost:8080/",
          "height": 1000
        },
        "id": "S-oisg0W0ZHl",
        "outputId": "99e06762-b64a-4ea7-a59a-76f6455983fc"
      },
      "execution_count": 42,
      "outputs": [
        {
          "output_type": "stream",
          "name": "stdout",
          "text": [
            "Training fold 1...\n",
            "Validation accuracy for fold 1: 0.5556\n",
            "\u001b[1m1/1\u001b[0m \u001b[32m━━━━━━━━━━━━━━━━━━━━\u001b[0m\u001b[37m\u001b[0m \u001b[1m0s\u001b[0m 191ms/step\n",
            "Training fold 2...\n",
            "Validation accuracy for fold 2: 0.3333\n",
            "Training fold 3...\n",
            "Validation accuracy for fold 3: 0.5556\n",
            "Training fold 4...\n",
            "Validation accuracy for fold 4: 0.6667\n",
            "\u001b[1m1/1\u001b[0m \u001b[32m━━━━━━━━━━━━━━━━━━━━\u001b[0m\u001b[37m\u001b[0m \u001b[1m0s\u001b[0m 233ms/step\n",
            "Training fold 5...\n",
            "Validation accuracy for fold 5: 0.7778\n"
          ]
        },
        {
          "output_type": "stream",
          "name": "stderr",
          "text": [
            "WARNING:tensorflow:5 out of the last 5 calls to <function TensorFlowTrainer.make_predict_function.<locals>.one_step_on_data_distributed at 0x7ce425b9bd90> triggered tf.function retracing. Tracing is expensive and the excessive number of tracings could be due to (1) creating @tf.function repeatedly in a loop, (2) passing tensors with different shapes, (3) passing Python objects instead of tensors. For (1), please define your @tf.function outside of the loop. For (2), @tf.function has reduce_retracing=True option that can avoid unnecessary retracing. For (3), please refer to https://www.tensorflow.org/guide/function#controlling_retracing and https://www.tensorflow.org/api_docs/python/tf/function for  more details.\n"
          ]
        },
        {
          "output_type": "stream",
          "name": "stdout",
          "text": [
            "\u001b[1m1/1\u001b[0m \u001b[32m━━━━━━━━━━━━━━━━━━━━\u001b[0m\u001b[37m\u001b[0m \u001b[1m0s\u001b[0m 239ms/step\n",
            "Training fold 6...\n",
            "Validation accuracy for fold 6: 0.4444\n",
            "Training fold 7...\n",
            "Validation accuracy for fold 7: 0.3333\n",
            "Training fold 8...\n",
            "Validation accuracy for fold 8: 0.5556\n",
            "Training fold 9...\n",
            "Validation accuracy for fold 9: 0.5000\n",
            "Training fold 10...\n",
            "Validation accuracy for fold 10: 0.5000\n",
            "Mean validation accuracy: 0.5222\n",
            "Standard deviation: 0.1296\n"
          ]
        },
        {
          "output_type": "display_data",
          "data": {
            "text/plain": [
              "<Figure size 800x600 with 2 Axes>"
            ],
            "image/png": "[encoded data removed]"
          },
          "metadata": {}
        },
        {
          "output_type": "stream",
          "name": "stdout",
          "text": [
            "Classification Report:\n",
            "              precision    recall  f1-score   support\n",
            "\n",
            "     Class 0       0.80      1.00      0.89         4\n",
            "     Class 1       1.00      0.33      0.50         3\n",
            "     Class 2       0.67      1.00      0.80         2\n",
            "\n",
            "    accuracy                           0.78         9\n",
            "   macro avg       0.82      0.78      0.73         9\n",
            "weighted avg       0.84      0.78      0.74         9\n",
            "\n"
          ]
        },
        {
          "output_type": "display_data",
          "data": {
            "text/plain": [
              "<Figure size 1000x800 with 1 Axes>"
            ],
            "image/png": "[encoded data removed]"
          },
          "metadata": {}
        },
        {
          "output_type": "stream",
          "name": "stdout",
          "text": [
            "Accuracy: 0.7778\n",
            "Precision: 0.8370\n",
            "Recall: 0.7778\n",
            "F1-Score: 0.7395\n"
          ]
        }
      ]
    },
    {
      "cell_type": "markdown",
      "source": [
        "## 8. FPGA Deliverables"
      ],
      "metadata": {
        "id": "_sjce5mW2o_8"
      }
    },
    {
      "cell_type": "code",
      "source": [],
      "metadata": {
        "id": "0NiiL_mZ2vxl"
      },
      "execution_count": null,
      "outputs": []
    }
  ]
}